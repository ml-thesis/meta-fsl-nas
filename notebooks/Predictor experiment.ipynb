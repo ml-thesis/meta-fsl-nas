{
 "cells": [
  {
   "cell_type": "code",
   "execution_count": 8,
   "id": "active-establishment",
   "metadata": {},
   "outputs": [],
   "source": [
    "import os\n",
    "import time\n",
    "\n",
    "import numpy as np\n",
    "\n",
    "import igraph\n",
    "from igraph import Graph\n",
    "\n",
    "import torch\n",
    "from torch import nn, optim\n",
    "from torch.optim.lr_scheduler import ReduceLROnPlateau\n",
    "import torch.nn.functional as F\n",
    "\n",
    "from tqdm import tqdm\n",
    "from scipy.stats import pearsonr\n",
    "from graphviz import Digraph\n",
    "import scipy\n",
    "\n",
    "import matplotlib.pyplot as plt"
   ]
  },
  {
   "cell_type": "markdown",
   "id": "surface-honolulu",
   "metadata": {},
   "source": [
    "Experimenting with the performance predictor of metaD2A, $f_{\\omega}$. "
   ]
  },
  {
   "cell_type": "code",
   "execution_count": 36,
   "id": "oriented-findings",
   "metadata": {},
   "outputs": [
    {
     "name": "stdout",
     "output_type": "stream",
     "text": [
      "IGRAPH D--- 4 6 --\n",
      "+ edges:\n",
      "0->1 0->2 0->3 1->2 1->3 2->3\n"
     ]
    }
   ],
   "source": [
    "from igraph import *\n",
    "\n",
    "\n",
    "g = Graph(directed=True)\n",
    "g.add_vertices(4)\n",
    "# , (1, 2), (1, 3), (1, 4), 0, 2), (0, 3), (0, 4), (2, 3), (2, 4), (3, 4)\n",
    "g.add_edges([(0, 1), (0, 2), (0, 3), (1, 2), (1, 3), (2, 3)])\n",
    "\n",
    "print(g)"
   ]
  },
  {
   "cell_type": "code",
   "execution_count": 37,
   "id": "aggregate-virgin",
   "metadata": {},
   "outputs": [
    {
     "data": {
      "image/svg+xml": [
       "<?xml version=\"1.0\" encoding=\"UTF-8\"?>\n",
       "<svg xmlns=\"http://www.w3.org/2000/svg\" xmlns:xlink=\"http://www.w3.org/1999/xlink\" width=\"300pt\" height=\"300pt\" viewBox=\"0 0 300 300\" version=\"1.1\">\n",
       "<g id=\"surface86\">\n",
       "<rect x=\"0\" y=\"0\" width=\"300\" height=\"300\" style=\"fill:rgb(100%,100%,100%);fill-opacity:1;stroke:none;\"/>\n",
       "<path style=\"fill:none;stroke-width:1;stroke-linecap:butt;stroke-linejoin:miter;stroke:rgb(26.666667%,26.666667%,26.666667%);stroke-opacity:1;stroke-miterlimit:10;\" d=\"M 194.578125 280 L 41.796875 205.269531 \"/>\n",
       "<path style=\" stroke:none;fill-rule:nonzero;fill:rgb(26.666667%,26.666667%,26.666667%);fill-opacity:1;\" d=\"M 28.984375 199 L 43.835938 201.105469 L 39.761719 209.433594 L 28.984375 199 \"/>\n",
       "<path style=\"fill:none;stroke-width:1;stroke-linecap:butt;stroke-linejoin:miter;stroke:rgb(26.666667%,26.666667%,26.666667%);stroke-opacity:1;stroke-miterlimit:10;\" d=\"M 194.578125 280 L 113.304688 42.953125 \"/>\n",
       "<path style=\" stroke:none;fill-rule:nonzero;fill:rgb(26.666667%,26.666667%,26.666667%);fill-opacity:1;\" d=\"M 108.675781 29.460938 L 117.6875 41.449219 L 108.917969 44.457031 L 108.675781 29.460938 \"/>\n",
       "<path style=\"fill:none;stroke-width:1;stroke-linecap:butt;stroke-linejoin:miter;stroke:rgb(26.666667%,26.666667%,26.666667%);stroke-opacity:1;stroke-miterlimit:10;\" d=\"M 194.578125 280 L 269.335938 127.203125 \"/>\n",
       "<path style=\" stroke:none;fill-rule:nonzero;fill:rgb(26.666667%,26.666667%,26.666667%);fill-opacity:1;\" d=\"M 275.605469 114.390625 L 273.5 129.242188 L 265.171875 125.167969 L 275.605469 114.390625 \"/>\n",
       "<path style=\"fill:none;stroke-width:1;stroke-linecap:butt;stroke-linejoin:miter;stroke:rgb(26.666667%,26.666667%,26.666667%);stroke-opacity:1;stroke-miterlimit:10;\" d=\"M 20 194.605469 L 94.769531 41.796875 \"/>\n",
       "<path style=\" stroke:none;fill-rule:nonzero;fill:rgb(26.666667%,26.666667%,26.666667%);fill-opacity:1;\" d=\"M 101.039062 28.980469 L 98.933594 43.832031 L 90.605469 39.757812 L 101.039062 28.980469 \"/>\n",
       "<path style=\"fill:none;stroke-width:1;stroke-linecap:butt;stroke-linejoin:miter;stroke:rgb(26.666667%,26.666667%,26.666667%);stroke-opacity:1;stroke-miterlimit:10;\" d=\"M 20 194.605469 L 257.046875 113.28125 \"/>\n",
       "<path style=\" stroke:none;fill-rule:nonzero;fill:rgb(26.666667%,26.666667%,26.666667%);fill-opacity:1;\" d=\"M 270.542969 108.652344 L 258.550781 117.667969 L 255.542969 108.898438 L 270.542969 108.652344 \"/>\n",
       "<path style=\"fill:none;stroke-width:1;stroke-linecap:butt;stroke-linejoin:miter;stroke:rgb(26.666667%,26.666667%,26.666667%);stroke-opacity:1;stroke-miterlimit:10;\" d=\"M 105.433594 20 L 258.203125 94.742188 \"/>\n",
       "<path style=\" stroke:none;fill-rule:nonzero;fill:rgb(26.666667%,26.666667%,26.666667%);fill-opacity:1;\" d=\"M 271.015625 101.011719 L 256.167969 98.90625 L 260.238281 90.578125 L 271.015625 101.011719 \"/>\n",
       "<path style=\"fill-rule:nonzero;fill:rgb(100%,0%,0%);fill-opacity:1;stroke-width:1;stroke-linecap:butt;stroke-linejoin:miter;stroke:rgb(0%,0%,0%);stroke-opacity:1;stroke-miterlimit:10;\" d=\"M 204.578125 280 C 204.578125 285.523438 200.101562 290 194.578125 290 C 189.058594 290 184.578125 285.523438 184.578125 280 C 184.578125 274.476562 189.058594 270 194.578125 270 C 200.101562 270 204.578125 274.476562 204.578125 280 \"/>\n",
       "<path style=\"fill-rule:nonzero;fill:rgb(100%,0%,0%);fill-opacity:1;stroke-width:1;stroke-linecap:butt;stroke-linejoin:miter;stroke:rgb(0%,0%,0%);stroke-opacity:1;stroke-miterlimit:10;\" d=\"M 30 194.605469 C 30 200.128906 25.523438 204.605469 20 204.605469 C 14.476562 204.605469 10 200.128906 10 194.605469 C 10 189.082031 14.476562 184.605469 20 184.605469 C 25.523438 184.605469 30 189.082031 30 194.605469 \"/>\n",
       "<path style=\"fill-rule:nonzero;fill:rgb(100%,0%,0%);fill-opacity:1;stroke-width:1;stroke-linecap:butt;stroke-linejoin:miter;stroke:rgb(0%,0%,0%);stroke-opacity:1;stroke-miterlimit:10;\" d=\"M 115.433594 20 C 115.433594 25.523438 110.957031 30 105.433594 30 C 99.910156 30 95.433594 25.523438 95.433594 20 C 95.433594 14.476562 99.910156 10 105.433594 10 C 110.957031 10 115.433594 14.476562 115.433594 20 \"/>\n",
       "<path style=\"fill-rule:nonzero;fill:rgb(100%,0%,0%);fill-opacity:1;stroke-width:1;stroke-linecap:butt;stroke-linejoin:miter;stroke:rgb(0%,0%,0%);stroke-opacity:1;stroke-miterlimit:10;\" d=\"M 290 105.40625 C 290 110.929688 285.523438 115.40625 280 115.40625 C 274.476562 115.40625 270 110.929688 270 105.40625 C 270 99.886719 274.476562 95.40625 280 95.40625 C 285.523438 95.40625 290 99.886719 290 105.40625 \"/>\n",
       "</g>\n",
       "</svg>\n"
      ],
      "text/plain": [
       "<igraph.drawing.Plot at 0x7fa5c0636250>"
      ]
     },
     "execution_count": 37,
     "metadata": {
      "image/svg+xml": {
       "isolated": true
      }
     },
     "output_type": "execute_result"
    }
   ],
   "source": [
    "\n",
    "igraph.plot(g, bbox=(0, 0, 300, 300))"
   ]
  },
  {
   "cell_type": "code",
   "execution_count": 38,
   "id": "integral-straight",
   "metadata": {},
   "outputs": [
    {
     "data": {
      "text/plain": [
       "[(0, 1), (0, 2), (0, 3), (1, 2), (1, 3), (2, 3)]"
      ]
     },
     "execution_count": 38,
     "metadata": {},
     "output_type": "execute_result"
    }
   ],
   "source": [
    "g.get_edgelist()"
   ]
  },
  {
   "cell_type": "code",
   "execution_count": 39,
   "id": "intense-interstate",
   "metadata": {},
   "outputs": [
    {
     "data": {
      "image/svg+xml": [
       "<?xml version=\"1.0\" encoding=\"UTF-8\"?>\n",
       "<svg xmlns=\"http://www.w3.org/2000/svg\" xmlns:xlink=\"http://www.w3.org/1999/xlink\" width=\"300pt\" height=\"300pt\" viewBox=\"0 0 300 300\" version=\"1.1\">\n",
       "<g id=\"surface92\">\n",
       "<rect x=\"0\" y=\"0\" width=\"300\" height=\"300\" style=\"fill:rgb(100%,100%,100%);fill-opacity:1;stroke:none;\"/>\n",
       "<path style=\"fill:none;stroke-width:1;stroke-linecap:butt;stroke-linejoin:miter;stroke:rgb(26.666667%,26.666667%,26.666667%);stroke-opacity:1;stroke-miterlimit:10;\" d=\"M 153.792969 215.988281 L 145.621094 134.980469 \"/>\n",
       "<path style=\" stroke:none;fill-rule:nonzero;fill:rgb(26.666667%,26.666667%,26.666667%);fill-opacity:1;\" d=\"M 144.191406 120.785156 L 150.234375 134.515625 L 141.011719 135.445312 L 144.191406 120.785156 \"/>\n",
       "<path style=\"fill:none;stroke-width:1;stroke-linecap:butt;stroke-linejoin:miter;stroke:rgb(26.666667%,26.666667%,26.666667%);stroke-opacity:1;stroke-miterlimit:10;\" d=\"M 153.792969 215.988281 L 111.6875 262.082031 \"/>\n",
       "<path style=\" stroke:none;fill-rule:nonzero;fill:rgb(26.666667%,26.666667%,26.666667%);fill-opacity:1;\" d=\"M 102.066406 272.617188 L 108.261719 258.957031 L 115.109375 265.210938 L 102.066406 272.617188 \"/>\n",
       "<path style=\"fill:none;stroke-width:1;stroke-linecap:butt;stroke-linejoin:miter;stroke:rgb(26.666667%,26.666667%,26.666667%);stroke-opacity:1;stroke-miterlimit:10;\" d=\"M 20 20.480469 L 74.808594 20.148438 \"/>\n",
       "<path style=\" stroke:none;fill-rule:nonzero;fill:rgb(26.666667%,26.666667%,26.666667%);fill-opacity:1;\" d=\"M 89.074219 20.0625 L 74.835938 24.78125 L 74.78125 15.511719 L 89.074219 20.0625 \"/>\n",
       "<path style=\"fill:none;stroke-width:1;stroke-linecap:butt;stroke-linejoin:miter;stroke:rgb(26.666667%,26.666667%,26.666667%);stroke-opacity:1;stroke-miterlimit:10;\" d=\"M 143.1875 110.835938 L 109.675781 41.828125 \"/>\n",
       "<path style=\" stroke:none;fill-rule:nonzero;fill:rgb(26.666667%,26.666667%,26.666667%);fill-opacity:1;\" d=\"M 103.441406 28.996094 L 113.84375 39.804688 L 105.503906 43.851562 L 103.441406 28.996094 \"/>\n",
       "<path style=\"fill-rule:nonzero;fill:rgb(100%,0%,0%);fill-opacity:1;stroke-width:1;stroke-linecap:butt;stroke-linejoin:miter;stroke:rgb(0%,0%,0%);stroke-opacity:1;stroke-miterlimit:10;\" d=\"M 163.792969 215.988281 C 163.792969 221.511719 159.316406 225.988281 153.792969 225.988281 C 148.269531 225.988281 143.792969 221.511719 143.792969 215.988281 C 143.792969 210.464844 148.269531 205.988281 153.792969 205.988281 C 159.316406 205.988281 163.792969 210.464844 163.792969 215.988281 \"/>\n",
       "<path style=\"fill-rule:nonzero;fill:rgb(100%,0%,0%);fill-opacity:1;stroke-width:1;stroke-linecap:butt;stroke-linejoin:miter;stroke:rgb(0%,0%,0%);stroke-opacity:1;stroke-miterlimit:10;\" d=\"M 30 20.480469 C 30 26.003906 25.523438 30.480469 20 30.480469 C 14.476562 30.480469 10 26.003906 10 20.480469 C 10 14.957031 14.476562 10.480469 20 10.480469 C 25.523438 10.480469 30 14.957031 30 20.480469 \"/>\n",
       "<path style=\"fill-rule:nonzero;fill:rgb(100%,0%,0%);fill-opacity:1;stroke-width:1;stroke-linecap:butt;stroke-linejoin:miter;stroke:rgb(0%,0%,0%);stroke-opacity:1;stroke-miterlimit:10;\" d=\"M 290 60.066406 C 290 65.589844 285.523438 70.066406 280 70.066406 C 274.476562 70.066406 270 65.589844 270 60.066406 C 270 54.542969 274.476562 50.066406 280 50.066406 C 285.523438 50.066406 290 54.542969 290 60.066406 \"/>\n",
       "<path style=\"fill-rule:nonzero;fill:rgb(100%,0%,0%);fill-opacity:1;stroke-width:1;stroke-linecap:butt;stroke-linejoin:miter;stroke:rgb(0%,0%,0%);stroke-opacity:1;stroke-miterlimit:10;\" d=\"M 153.1875 110.835938 C 153.1875 116.359375 148.710938 120.835938 143.1875 120.835938 C 137.664062 120.835938 133.1875 116.359375 133.1875 110.835938 C 133.1875 105.3125 137.664062 100.835938 143.1875 100.835938 C 148.710938 100.835938 153.1875 105.3125 153.1875 110.835938 \"/>\n",
       "<path style=\"fill-rule:nonzero;fill:rgb(100%,0%,0%);fill-opacity:1;stroke-width:1;stroke-linecap:butt;stroke-linejoin:miter;stroke:rgb(0%,0%,0%);stroke-opacity:1;stroke-miterlimit:10;\" d=\"M 105.320312 280 C 105.320312 285.523438 100.84375 290 95.320312 290 C 89.796875 290 85.320312 285.523438 85.320312 280 C 85.320312 274.476562 89.796875 270 95.320312 270 C 100.84375 270 105.320312 274.476562 105.320312 280 \"/>\n",
       "<path style=\"fill-rule:nonzero;fill:rgb(100%,0%,0%);fill-opacity:1;stroke-width:1;stroke-linecap:butt;stroke-linejoin:miter;stroke:rgb(0%,0%,0%);stroke-opacity:1;stroke-miterlimit:10;\" d=\"M 109.074219 20 C 109.074219 25.523438 104.597656 30 99.074219 30 C 93.550781 30 89.074219 25.523438 89.074219 20 C 89.074219 14.476562 93.550781 10 99.074219 10 C 104.597656 10 109.074219 14.476562 109.074219 20 \"/>\n",
       "</g>\n",
       "</svg>\n"
      ],
      "text/plain": [
       "<igraph.drawing.Plot at 0x7fa5c2910190>"
      ]
     },
     "execution_count": 39,
     "metadata": {
      "image/svg+xml": {
       "isolated": true
      }
     },
     "output_type": "execute_result"
    }
   ],
   "source": [
    "igraph.plot(g.linegraph(), bbox=(0, 0, 300, 300))"
   ]
  },
  {
   "cell_type": "code",
   "execution_count": 386,
   "id": "stupid-mounting",
   "metadata": {},
   "outputs": [],
   "source": [
    "def parse(alpha, k, primitives=PRIMITIVES_FEWSHOT):\n",
    "    \"\"\"\n",
    "    parse continuous alpha to discrete gene.\n",
    "    alpha is ParameterList:\n",
    "    ParameterList [\n",
    "        Parameter(n_edges1, n_ops),\n",
    "        Parameter(n_edges2, n_ops),\n",
    "        ...\n",
    "    ]\n",
    "\n",
    "    gene is list:\n",
    "    [\n",
    "        [('node1_ops_1', node_idx), ..., ('node1_ops_k', node_idx)],\n",
    "        [('node2_ops_1', node_idx), ..., ('node2_ops_k', node_idx)],\n",
    "        ...\n",
    "    ]\n",
    "    each node has two edges (k=2) in CNN.\n",
    "    \"\"\"\n",
    "    gene = []\n",
    "    # assert PRIMITIVES_FEWSHOT[-1] == \"none\"  # assume last PRIMITIVE\n",
    "    # is 'none'\n",
    "\n",
    "    # 1) Convert the mixed op to discrete edge (single op) by choosing\n",
    "    #    top-1 weight edge\n",
    "    # 2) Choose top-k edges per node by edge score (top-1 weight in edge)\n",
    "    for edges in alpha:\n",
    "        # edges: Tensor(n_edges, n_ops)\n",
    "        edge_max, primitive_indices = torch.topk(\n",
    "            edges[:, :], 1\n",
    "        )  # ignore 'none' ##removed none\n",
    "        topk_edge_values, topk_edge_indices = torch.topk(edge_max.view(-1), k)\n",
    "        print(topk_edge_indices)\n",
    "        \n",
    "        node_gene = []\n",
    "        for edge_idx in topk_edge_indices:\n",
    "            prim_idx = primitive_indices[edge_idx]\n",
    "            prim = primitives[prim_idx]\n",
    "            node_gene.append((prim, edge_idx.item()))\n",
    "\n",
    "        gene.append(node_gene)\n",
    "\n",
    "    return gene\n",
    "\n",
    "def plot(genotype, file_path, caption=None):\n",
    "    \"\"\" make DAG plot and save to file_path as .png \"\"\"\n",
    "    edge_attr = {\"fontsize\": \"20\", \"fontname\": \"times\"}\n",
    "    node_attr = {\n",
    "        \"style\": \"filled\",\n",
    "        \"shape\": \"rect\",\n",
    "        \"align\": \"center\",\n",
    "        \"fontsize\": \"20\",\n",
    "        \"height\": \"0.5\",\n",
    "        \"width\": \"0.5\",\n",
    "        \"penwidth\": \"2\",\n",
    "        \"fontname\": \"times\",\n",
    "    }\n",
    "    g = Digraph(format=\"png\", edge_attr=edge_attr, node_attr=node_attr, engine=\"dot\")\n",
    "    g.body.extend([\"rankdir=LR\"])\n",
    "\n",
    "    # input nodes\n",
    "    g.node(\"c_{k-2}\", fillcolor=\"darkseagreen2\")\n",
    "    g.node(\"c_{k-1}\", fillcolor=\"darkseagreen2\")\n",
    "\n",
    "    # intermediate nodes\n",
    "    n_nodes = len(genotype)\n",
    "    for i in range(n_nodes):\n",
    "        g.node(str(i), fillcolor=\"lightblue\")\n",
    "\n",
    "    for i, edges in enumerate(genotype):\n",
    "        for op, j in edges:\n",
    "            if j == 0:\n",
    "                u = \"c_{k-2}\"\n",
    "            elif j == 1:\n",
    "                u = \"c_{k-1}\"\n",
    "            else:\n",
    "                u = str(j - 2)\n",
    "\n",
    "            v = str(i)\n",
    "            g.edge(u, v, label=op, fillcolor=\"gray\")\n",
    "\n",
    "    # output node\n",
    "    g.node(\"c_{k}\", fillcolor=\"palegoldenrod\")\n",
    "    for i in range(n_nodes):\n",
    "        g.edge(str(i), \"c_{k}\", fillcolor=\"gray\")\n",
    "\n",
    "    # add image caption\n",
    "    if caption:\n",
    "        g.attr(label=caption, overlap=\"false\", fontsize=\"20\", fontname=\"times\")\n",
    "\n",
    "    g.render(file_path, view=False)"
   ]
  },
  {
   "cell_type": "code",
   "execution_count": 3,
   "id": "overhead-league",
   "metadata": {},
   "outputs": [
    {
     "data": {
      "text/plain": [
       "[Parameter containing:\n",
       " tensor([[0.9999, 1.0003, 1.0000, 0.9996, 0.9991, 1.0008, 0.9999],\n",
       "         [0.9989, 1.0001, 1.0002, 1.0006, 1.0009, 1.0013, 0.9996]],\n",
       "        requires_grad=True),\n",
       " Parameter containing:\n",
       " tensor([[1.0008, 1.0006, 1.0001, 1.0000, 0.9999, 1.0000, 1.0004],\n",
       "         [1.0013, 0.9989, 1.0006, 1.0001, 0.9997, 1.0002, 1.0001],\n",
       "         [0.9999, 0.9996, 0.9996, 0.9999, 1.0002, 1.0006, 1.0001]],\n",
       "        requires_grad=True),\n",
       " Parameter containing:\n",
       " tensor([[1.0001, 0.9994, 1.0008, 1.0004, 0.9996, 0.9996, 0.9993],\n",
       "         [1.0005, 0.9999, 0.9998, 0.9993, 1.0004, 0.9999, 1.0006],\n",
       "         [0.9999, 0.9998, 1.0005, 1.0006, 1.0000, 1.0003, 1.0001],\n",
       "         [0.9999, 0.9997, 1.0002, 1.0003, 1.0001, 0.9997, 0.9996]],\n",
       "        requires_grad=True)]"
      ]
     },
     "execution_count": 3,
     "metadata": {},
     "output_type": "execute_result"
    }
   ],
   "source": [
    "PRIMITIVES_FEWSHOT = [\n",
    "    \"max_pool_3x3\",\n",
    "    \"avg_pool_3x3\",\n",
    "    \"skip_connect\",  # identity\n",
    "    \"conv_1x5_5x1\",\n",
    "    \"conv_3x3\",\n",
    "    \"sep_conv_3x3\",\n",
    "    # \"sep_conv_5x5\",  # remove\n",
    "    \"dil_conv_3x3\",\n",
    "    # \"dil_conv_5x5\",  # remove\n",
    "    # \"none\",  # remove\n",
    "]\n",
    "\n",
    "n_nodes = 3\n",
    "n_ops = 7\n",
    "\n",
    "alpha_normal = []\n",
    "alpha_pw_normal = []\n",
    "\n",
    "for i in range(n_nodes):\n",
    "    alpha_normal.append(nn.Parameter(\n",
    "        1e-3 * torch.randn(i + 2, n_ops)* 0.5 + 1))\n",
    "    \n",
    "    num_comb = int(scipy.special.binom(i + 2, 2))\n",
    "    alpha_pw_normal.append(\n",
    "        nn.Parameter(1e-3 * torch.randn(num_comb)))\n",
    "    \n",
    "alpha_normal"
   ]
  },
  {
   "cell_type": "code",
   "execution_count": 174,
   "id": "secure-blackberry",
   "metadata": {},
   "outputs": [
    {
     "name": "stdout",
     "output_type": "stream",
     "text": [
      "[Parameter containing:\n",
      "tensor([[0.9992, 1.0003, 1.0000, 0.9999, 1.0012, 0.9997, 0.9998],\n",
      "        [1.0002, 1.0003, 0.9996, 1.0004, 1.0000, 1.0001, 0.9999]],\n",
      "       requires_grad=True), Parameter containing:\n",
      "tensor([[1.0007, 0.9997, 1.0002, 1.0001, 0.9997, 1.0004, 0.9997],\n",
      "        [1.0001, 1.0003, 1.0004, 1.0006, 1.0000, 0.9992, 1.0004],\n",
      "        [0.9995, 0.9998, 1.0007, 1.0007, 1.0007, 0.9996, 1.0004]],\n",
      "       requires_grad=True), Parameter containing:\n",
      "tensor([[0.9997, 0.9996, 1.0000, 1.0006, 0.9993, 1.0004, 1.0009],\n",
      "        [1.0009, 1.0004, 1.0009, 1.0005, 0.9999, 1.0006, 0.9994],\n",
      "        [1.0003, 0.9998, 1.0008, 0.9998, 1.0001, 1.0002, 0.9996],\n",
      "        [1.0001, 1.0005, 1.0005, 0.9986, 1.0000, 0.9998, 0.9998]],\n",
      "       requires_grad=True)] \n",
      "\n",
      "tensor([1.0012, 1.0004], grad_fn=<ViewBackward>)\n",
      "top_k\n",
      "tensor([1.0012, 1.0004], grad_fn=<TopkBackward>)\n",
      "tensor([0, 1]) \n",
      "\n",
      "tensor([1.0007, 1.0006, 1.0007], grad_fn=<ViewBackward>)\n",
      "top_k\n",
      "tensor([1.0007, 1.0007], grad_fn=<TopkBackward>)\n",
      "tensor([2, 0]) \n",
      "\n",
      "tensor([1.0009, 1.0009, 1.0008, 1.0005], grad_fn=<ViewBackward>)\n",
      "top_k\n",
      "tensor([1.0009, 1.0009], grad_fn=<TopkBackward>)\n",
      "tensor([1, 0]) \n",
      "\n"
     ]
    }
   ],
   "source": [
    "def parse(alpha, k, primitives=PRIMITIVES_FEWSHOT):\n",
    "    gene = []\n",
    "    for edges in alpha:\n",
    "        edge_max, primitive_indices = torch.topk(\n",
    "            edges[:, :], 1\n",
    "        )\n",
    "        print(edge_max.view(-1))\n",
    "        \n",
    "        topk_edge_values, topk_edge_indices = torch.topk(edge_max.view(-1), k)\n",
    "        \n",
    "        print(\"top_k\")\n",
    "        print(topk_edge_values)\n",
    "        print(topk_edge_indices, \"\\n\")\n",
    "        \n",
    "        node_gene = []\n",
    "        for edge_idx in topk_edge_indices:\n",
    "            prim_idx = primitive_indices[edge_idx]\n",
    "            prim = primitives[prim_idx]\n",
    "            node_gene.append((prim, edge_idx.item()))\n",
    "\n",
    "        gene.append(node_gene)\n",
    "\n",
    "    return gene\n",
    "\n",
    "print(alpha_normal, \"\\n\")\n",
    "\n",
    "geno = parse(alpha_normal, k=2)"
   ]
  },
  {
   "cell_type": "code",
   "execution_count": 547,
   "id": "electrical-arrow",
   "metadata": {},
   "outputs": [],
   "source": [
    "k = 2\n",
    "\n",
    "topk_edges = []\n",
    "\n",
    "for edges in alpha_normal:\n",
    "    # edges: Tensor(n_edges, n_ops)\n",
    "    edge_max, primitive_indices = torch.topk(edges[:, :], 1)\n",
    "    topk_edge_values, topk_edge_indices = torch.topk(edge_max.view(-1), k)\n",
    "    \n",
    "#     print(topk_edge_indices.numpy())\n",
    "    topk_edges.append(topk_edge_indices.numpy())\n",
    "\n",
    "topk_edges = np.array(topk_edges)"
   ]
  },
  {
   "cell_type": "code",
   "execution_count": 551,
   "id": "functional-junction",
   "metadata": {},
   "outputs": [
    {
     "data": {
      "text/plain": [
       "[Parameter containing:\n",
       " tensor([[0.9989, 1.0005, 0.9996, 1.0002, 1.0002, 0.9995, 1.0004],\n",
       "         [0.9988, 0.9999, 0.9989, 0.9999, 1.0002, 1.0003, 0.9992]],\n",
       "        requires_grad=True),\n",
       " Parameter containing:\n",
       " tensor([[1.0006, 0.9993, 1.0004, 0.9990, 0.9994, 1.0002, 1.0004],\n",
       "         [1.0014, 0.9999, 0.9995, 1.0003, 0.9985, 0.9995, 0.9994],\n",
       "         [0.9993, 0.9995, 1.0006, 1.0004, 1.0001, 0.9999, 1.0009]],\n",
       "        requires_grad=True),\n",
       " Parameter containing:\n",
       " tensor([[1.0002, 1.0003, 1.0003, 1.0002, 1.0004, 1.0000, 1.0007],\n",
       "         [1.0007, 0.9999, 0.9997, 1.0000, 1.0007, 1.0001, 1.0003],\n",
       "         [1.0002, 1.0001, 0.9997, 1.0004, 0.9998, 0.9991, 1.0008],\n",
       "         [1.0009, 1.0009, 0.9999, 1.0000, 1.0000, 1.0001, 1.0005]],\n",
       "        requires_grad=True)]"
      ]
     },
     "execution_count": 551,
     "metadata": {},
     "output_type": "execute_result"
    }
   ],
   "source": [
    "alpha_normal"
   ]
  },
  {
   "cell_type": "code",
   "execution_count": 554,
   "id": "impossible-postage",
   "metadata": {},
   "outputs": [
    {
     "data": {
      "image/svg+xml": [
       "<?xml version=\"1.0\" encoding=\"UTF-8\"?>\n",
       "<svg xmlns=\"http://www.w3.org/2000/svg\" xmlns:xlink=\"http://www.w3.org/1999/xlink\" width=\"300pt\" height=\"300pt\" viewBox=\"0 0 300 300\" version=\"1.1\">\n",
       "<defs>\n",
       "<g>\n",
       "<symbol overflow=\"visible\" id=\"glyph0-0\">\n",
       "<path style=\"stroke:none;\" d=\"M 0.703125 2.46875 L 0.703125 -9.875 L 7.703125 -9.875 L 7.703125 2.46875 Z M 1.484375 1.703125 L 6.921875 1.703125 L 6.921875 -9.078125 L 1.484375 -9.078125 Z M 1.484375 1.703125 \"/>\n",
       "</symbol>\n",
       "<symbol overflow=\"visible\" id=\"glyph0-1\">\n",
       "<path style=\"stroke:none;\" d=\"M 4.453125 -9.296875 C 3.742188 -9.296875 3.207031 -8.945312 2.84375 -8.25 C 2.488281 -7.550781 2.3125 -6.5 2.3125 -5.09375 C 2.3125 -3.695312 2.488281 -2.644531 2.84375 -1.9375 C 3.207031 -1.238281 3.742188 -0.890625 4.453125 -0.890625 C 5.171875 -0.890625 5.707031 -1.238281 6.0625 -1.9375 C 6.414062 -2.644531 6.59375 -3.695312 6.59375 -5.09375 C 6.59375 -6.5 6.414062 -7.550781 6.0625 -8.25 C 5.707031 -8.945312 5.171875 -9.296875 4.453125 -9.296875 Z M 4.453125 -10.390625 C 5.597656 -10.390625 6.472656 -9.9375 7.078125 -9.03125 C 7.679688 -8.125 7.984375 -6.8125 7.984375 -5.09375 C 7.984375 -3.375 7.679688 -2.0625 7.078125 -1.15625 C 6.472656 -0.25 5.597656 0.203125 4.453125 0.203125 C 3.304688 0.203125 2.429688 -0.25 1.828125 -1.15625 C 1.222656 -2.0625 0.921875 -3.375 0.921875 -5.09375 C 0.921875 -6.8125 1.222656 -8.125 1.828125 -9.03125 C 2.429688 -9.9375 3.304688 -10.390625 4.453125 -10.390625 Z M 4.453125 -10.390625 \"/>\n",
       "</symbol>\n",
       "<symbol overflow=\"visible\" id=\"glyph0-2\">\n",
       "<path style=\"stroke:none;\" d=\"M 1.734375 -1.15625 L 4 -1.15625 L 4 -8.953125 L 1.53125 -8.453125 L 1.53125 -9.71875 L 3.984375 -10.203125 L 5.359375 -10.203125 L 5.359375 -1.15625 L 7.609375 -1.15625 L 7.609375 0 L 1.734375 0 Z M 1.734375 -1.15625 \"/>\n",
       "</symbol>\n",
       "<symbol overflow=\"visible\" id=\"glyph0-3\">\n",
       "<path style=\"stroke:none;\" d=\"M 2.6875 -1.15625 L 7.5 -1.15625 L 7.5 0 L 1.03125 0 L 1.03125 -1.15625 C 1.550781 -1.695312 2.265625 -2.425781 3.171875 -3.34375 C 4.078125 -4.257812 4.644531 -4.847656 4.875 -5.109375 C 5.3125 -5.609375 5.617188 -6.03125 5.796875 -6.375 C 5.972656 -6.71875 6.0625 -7.054688 6.0625 -7.390625 C 6.0625 -7.929688 5.867188 -8.375 5.484375 -8.71875 C 5.109375 -9.0625 4.613281 -9.234375 4 -9.234375 C 3.570312 -9.234375 3.117188 -9.15625 2.640625 -9 C 2.160156 -8.851562 1.644531 -8.625 1.09375 -8.3125 L 1.09375 -9.71875 C 1.644531 -9.9375 2.160156 -10.101562 2.640625 -10.21875 C 3.128906 -10.332031 3.578125 -10.390625 3.984375 -10.390625 C 5.035156 -10.390625 5.875 -10.125 6.5 -9.59375 C 7.132812 -9.070312 7.453125 -8.367188 7.453125 -7.484375 C 7.453125 -7.054688 7.375 -6.65625 7.21875 -6.28125 C 7.0625 -5.90625 6.773438 -5.460938 6.359375 -4.953125 C 6.242188 -4.828125 5.878906 -4.445312 5.265625 -3.8125 C 4.660156 -3.175781 3.800781 -2.289062 2.6875 -1.15625 Z M 2.6875 -1.15625 \"/>\n",
       "</symbol>\n",
       "</g>\n",
       "</defs>\n",
       "<g id=\"surface422\">\n",
       "<rect x=\"0\" y=\"0\" width=\"300\" height=\"300\" style=\"fill:rgb(100%,100%,100%);fill-opacity:1;stroke:none;\"/>\n",
       "<path style=\"fill:none;stroke-width:1;stroke-linecap:butt;stroke-linejoin:miter;stroke:rgb(26.666667%,26.666667%,26.666667%);stroke-opacity:1;stroke-miterlimit:10;\" d=\"M 20 248.644531 L 114.609375 182.257812 \"/>\n",
       "<path style=\" stroke:none;fill-rule:nonzero;fill:rgb(26.666667%,26.666667%,26.666667%);fill-opacity:1;\" d=\"M 126.289062 174.0625 L 117.273438 186.050781 L 111.945312 178.464844 L 126.289062 174.0625 \"/>\n",
       "<path style=\"fill:none;stroke-width:1;stroke-linecap:butt;stroke-linejoin:miter;stroke:rgb(26.666667%,26.666667%,26.666667%);stroke-opacity:1;stroke-miterlimit:10;\" d=\"M 280 65.945312 L 154.320312 154.359375 \"/>\n",
       "<path style=\" stroke:none;fill-rule:nonzero;fill:rgb(26.666667%,26.666667%,26.666667%);fill-opacity:1;\" d=\"M 142.652344 162.566406 L 151.652344 150.566406 L 156.988281 158.148438 L 142.652344 162.566406 \"/>\n",
       "<path style=\"fill:none;stroke-width:1;stroke-linecap:butt;stroke-linejoin:miter;stroke:rgb(26.666667%,26.666667%,26.666667%);stroke-opacity:1;stroke-miterlimit:10;\" d=\"M 20 248.644531 L 174.328125 275.796875 \"/>\n",
       "<path style=\" stroke:none;fill-rule:nonzero;fill:rgb(26.666667%,26.666667%,26.666667%);fill-opacity:1;\" d=\"M 188.378906 278.265625 L 173.527344 280.359375 L 175.132812 271.230469 L 188.378906 278.265625 \"/>\n",
       "<path style=\"fill:none;stroke-width:1;stroke-linecap:butt;stroke-linejoin:miter;stroke:rgb(26.666667%,26.666667%,26.666667%);stroke-opacity:1;stroke-miterlimit:10;\" d=\"M 280 65.945312 L 206.886719 257.332031 \"/>\n",
       "<path style=\" stroke:none;fill-rule:nonzero;fill:rgb(26.666667%,26.666667%,26.666667%);fill-opacity:1;\" d=\"M 201.796875 270.660156 L 202.558594 255.675781 L 211.21875 258.984375 L 201.796875 270.660156 \"/>\n",
       "<path style=\"fill:none;stroke-width:1;stroke-linecap:butt;stroke-linejoin:miter;stroke:rgb(26.666667%,26.666667%,26.666667%);stroke-opacity:1;stroke-miterlimit:10;\" d=\"M 134.472656 168.320312 L 186.199219 258.925781 \"/>\n",
       "<path style=\" stroke:none;fill-rule:nonzero;fill:rgb(26.666667%,26.666667%,26.666667%);fill-opacity:1;\" d=\"M 193.269531 271.316406 L 182.171875 261.222656 L 190.222656 256.628906 L 193.269531 271.316406 \"/>\n",
       "<path style=\"fill:none;stroke-width:1;stroke-linecap:butt;stroke-linejoin:miter;stroke:rgb(26.666667%,26.666667%,26.666667%);stroke-opacity:1;stroke-miterlimit:10;\" d=\"M 20 248.644531 L 112.78125 42.132812 \"/>\n",
       "<path style=\" stroke:none;fill-rule:nonzero;fill:rgb(26.666667%,26.666667%,26.666667%);fill-opacity:1;\" d=\"M 118.628906 29.121094 L 117.011719 44.035156 L 108.554688 40.234375 L 118.628906 29.121094 \"/>\n",
       "<path style=\"fill:none;stroke-width:1;stroke-linecap:butt;stroke-linejoin:miter;stroke:rgb(26.666667%,26.666667%,26.666667%);stroke-opacity:1;stroke-miterlimit:10;\" d=\"M 280 65.945312 L 146.019531 26.804688 \"/>\n",
       "<path style=\" stroke:none;fill-rule:nonzero;fill:rgb(26.666667%,26.666667%,26.666667%);fill-opacity:1;\" d=\"M 132.328125 22.804688 L 147.320312 22.355469 L 144.71875 31.253906 L 132.328125 22.804688 \"/>\n",
       "<path style=\"fill:none;stroke-width:1;stroke-linecap:butt;stroke-linejoin:miter;stroke:rgb(26.666667%,26.666667%,26.666667%);stroke-opacity:1;stroke-miterlimit:10;\" d=\"M 134.472656 168.320312 L 124.644531 44.191406 \"/>\n",
       "<path style=\" stroke:none;fill-rule:nonzero;fill:rgb(26.666667%,26.666667%,26.666667%);fill-opacity:1;\" d=\"M 123.515625 29.96875 L 129.265625 43.824219 L 120.023438 44.554688 L 123.515625 29.96875 \"/>\n",
       "<path style=\"fill:none;stroke-width:1;stroke-linecap:butt;stroke-linejoin:miter;stroke:rgb(26.666667%,26.666667%,26.666667%);stroke-opacity:1;stroke-miterlimit:10;\" d=\"M 198.226562 280 L 129.496094 43.304688 \"/>\n",
       "<path style=\" stroke:none;fill-rule:nonzero;fill:rgb(26.666667%,26.666667%,26.666667%);fill-opacity:1;\" d=\"M 125.515625 29.601562 L 133.945312 42.011719 L 125.042969 44.597656 L 125.515625 29.601562 \"/>\n",
       "<path style=\"fill-rule:nonzero;fill:rgb(100%,0%,0%);fill-opacity:1;stroke-width:1;stroke-linecap:butt;stroke-linejoin:miter;stroke:rgb(0%,0%,0%);stroke-opacity:1;stroke-miterlimit:10;\" d=\"M 30 248.644531 C 30 254.164062 25.523438 258.644531 20 258.644531 C 14.476562 258.644531 10 254.164062 10 248.644531 C 10 243.121094 14.476562 238.644531 20 238.644531 C 25.523438 238.644531 30 243.121094 30 248.644531 \"/>\n",
       "<path style=\"fill-rule:nonzero;fill:rgb(100%,0%,0%);fill-opacity:1;stroke-width:1;stroke-linecap:butt;stroke-linejoin:miter;stroke:rgb(0%,0%,0%);stroke-opacity:1;stroke-miterlimit:10;\" d=\"M 290 65.945312 C 290 71.464844 285.523438 75.945312 280 75.945312 C 274.476562 75.945312 270 71.464844 270 65.945312 C 270 60.421875 274.476562 55.945312 280 55.945312 C 285.523438 55.945312 290 60.421875 290 65.945312 \"/>\n",
       "<path style=\"fill-rule:nonzero;fill:rgb(100%,0%,0%);fill-opacity:1;stroke-width:1;stroke-linecap:butt;stroke-linejoin:miter;stroke:rgb(0%,0%,0%);stroke-opacity:1;stroke-miterlimit:10;\" d=\"M 144.472656 168.320312 C 144.472656 173.84375 139.996094 178.320312 134.472656 178.320312 C 128.949219 178.320312 124.472656 173.84375 124.472656 168.320312 C 124.472656 162.796875 128.949219 158.320312 134.472656 158.320312 C 139.996094 158.320312 144.472656 162.796875 144.472656 168.320312 \"/>\n",
       "<path style=\"fill-rule:nonzero;fill:rgb(100%,0%,0%);fill-opacity:1;stroke-width:1;stroke-linecap:butt;stroke-linejoin:miter;stroke:rgb(0%,0%,0%);stroke-opacity:1;stroke-miterlimit:10;\" d=\"M 208.226562 280 C 208.226562 285.523438 203.75 290 198.226562 290 C 192.707031 290 188.226562 285.523438 188.226562 280 C 188.226562 274.476562 192.707031 270 198.226562 270 C 203.75 270 208.226562 274.476562 208.226562 280 \"/>\n",
       "<path style=\"fill-rule:nonzero;fill:rgb(100%,0%,0%);fill-opacity:1;stroke-width:1;stroke-linecap:butt;stroke-linejoin:miter;stroke:rgb(0%,0%,0%);stroke-opacity:1;stroke-miterlimit:10;\" d=\"M 132.726562 20 C 132.726562 25.523438 128.25 30 122.726562 30 C 117.203125 30 112.726562 25.523438 112.726562 20 C 112.726562 14.476562 117.203125 10 122.726562 10 C 128.25 10 132.726562 14.476562 132.726562 20 \"/>\n",
       "<g style=\"fill:rgb(0%,0%,0%);fill-opacity:1;\">\n",
       "  <use xlink:href=\"#glyph0-1\" x=\"15.550781\" y=\"255.488281\"/>\n",
       "</g>\n",
       "<g style=\"fill:rgb(0%,0%,0%);fill-opacity:1;\">\n",
       "  <use xlink:href=\"#glyph0-2\" x=\"275.421875\" y=\"72.699219\"/>\n",
       "</g>\n",
       "<g style=\"fill:rgb(0%,0%,0%);fill-opacity:1;\">\n",
       "  <use xlink:href=\"#glyph0-3\" x=\"130.207031\" y=\"175.167969\"/>\n",
       "</g>\n",
       "</g>\n",
       "</svg>\n"
      ],
      "text/plain": [
       "<igraph.drawing.Plot at 0x7fde3b288750>"
      ]
     },
     "execution_count": 554,
     "metadata": {
      "image/svg+xml": {
       "isolated": true
      }
     },
     "output_type": "execute_result"
    }
   ],
   "source": [
    "\n",
    "n_nodes = 3+2\n",
    "\n",
    "g = Graph(directed=True)\n",
    "g.add_vertices(n_nodes)\n",
    "\n",
    "for i, edges in enumerate(alpha_normal):\n",
    "#     print(f\"node {i}\")\n",
    "    g.vs[i]['label'] = i\n",
    "    for j, edge in enumerate(edges):\n",
    "#         print(j, i+2)\n",
    "        g.add_edges([(j, i+2)])\n",
    "        \n",
    "        \n",
    "ig.plot(g, bbox=(0, 0, 300, 300))"
   ]
  },
  {
   "cell_type": "code",
   "execution_count": 4,
   "id": "infinite-karma",
   "metadata": {},
   "outputs": [],
   "source": [
    "nasbench201 = torch.load(\n",
    "    '/home/rob/Git/meta-fsl-nas/metanas/metanas/meta_predictor/data/nasbench201.pt')\n",
    "\n",
    "PRIMITIVES_NAS_BENCH_201 = [\n",
    "    'none', 'skip_connect', 'nor_conv_1x1', 'nor_conv_3x3', 'avg_pool_3x3']\n",
    "\n"
   ]
  },
  {
   "cell_type": "code",
   "execution_count": 5,
   "id": "ranging-trading",
   "metadata": {},
   "outputs": [],
   "source": [
    "n_nodes = 4\n",
    "max_n = 3\n",
    "n_ops = 5\n",
    "\n",
    "alpha_normal = []\n",
    "alpha_pw_normal = []\n",
    "\n",
    "for i in range(n_nodes):\n",
    "    alpha_normal.append(nn.Parameter(\n",
    "        1e-3 * torch.randn(i + 2, n_ops)))\n",
    "    \n",
    "    num_comb = int(scipy.special.binom(i + 2, 2))\n",
    "    alpha_pw_normal.append(\n",
    "        nn.Parameter(1e-3 * torch.randn(num_comb)))\n",
    "\n",
    "def parse(alpha, k, primitives=PRIMITIVES_FEWSHOT):\n",
    "    gene = []\n",
    "    for edges in alpha:\n",
    "        # edges: Tensor(n_edges, n_ops)\n",
    "        edge_max, primitive_indices = torch.topk(\n",
    "            edges[:, :], 1\n",
    "        )  # ignore 'none' ##removed none\n",
    "        topk_edge_values, topk_edge_indices = torch.topk(edge_max.view(-1), k)\n",
    "        node_gene = []\n",
    "        for edge_idx in topk_edge_indices:\n",
    "            prim_idx = primitive_indices[edge_idx]\n",
    "            prim = primitives[prim_idx]\n",
    "            node_gene.append((prim, edge_idx.item()))\n",
    "\n",
    "        gene.append(node_gene)\n",
    "    return gene\n",
    "\n",
    "\n",
    "geno = parse(alpha_normal, 2, primitives=PRIMITIVES_NAS_BENCH_201)\n",
    "geno\n",
    "\n",
    "# geno = [(('nor_conv_1x1', 0), ), # node-1 \n",
    "#    (('nor_conv_1x1', 0), ('nor_conv_1x1', 1)), # node-2\n",
    "#    (('nor_conv_1x1', 0), ('nor_conv_1x1', 1), ('nor_conv_1x1', 2))] # node-3\n",
    "\n",
    "geno1 = [[('nor_conv_1x1', 0), ],\n",
    "         [('nor_conv_1x1', 0), ('skip_connect', 1)],\n",
    "         [('skip_connect', 0), ('skip_connect', 1),  ('avg_pool_3x3', 2)]]"
   ]
  },
  {
   "cell_type": "code",
   "execution_count": 565,
   "id": "failing-classroom",
   "metadata": {},
   "outputs": [],
   "source": [
    "# NAS-Bench matrix to igraph\n",
    "def decode_NAS_BENCH_201_8_to_igraph(row):\n",
    "    if type(row) == str:\n",
    "        row = eval(row)  # convert string to list of lists\n",
    "    n = len(row)\n",
    "    g = igraph.Graph(directed=True)\n",
    "    g.add_vertices(n)\n",
    "    for i, node in enumerate(row):\n",
    "        g.vs[i]['type'] = node[0]\n",
    "        g.vs[i]['label'] = node[0]\n",
    "        if i < (n - 2) and i > 0:\n",
    "            g.add_edge(i, i + 1)  # always connect from last node\n",
    "        for j, edge in enumerate(node[1:]):\n",
    "            if edge == 1:\n",
    "                g.add_edge(j, i)\n",
    "    return g#, n"
   ]
  },
  {
   "cell_type": "code",
   "execution_count": 566,
   "id": "august-concern",
   "metadata": {},
   "outputs": [
    {
     "data": {
      "text/plain": [
       "<igraph.Graph at 0x7fde4020c250>"
      ]
     },
     "execution_count": 566,
     "metadata": {},
     "output_type": "execute_result"
    }
   ],
   "source": []
  },
  {
   "cell_type": "code",
   "execution_count": 559,
   "id": "cellular-rally",
   "metadata": {},
   "outputs": [
    {
     "data": {
      "text/plain": [
       "([[0],\n",
       "  [6, 1],\n",
       "  [4, 1, 0],\n",
       "  [3, 0, 1, 0],\n",
       "  [4, 1, 0, 0, 0],\n",
       "  [3, 0, 1, 0, 0, 0],\n",
       "  [3, 0, 0, 1, 1, 0, 0],\n",
       "  [1, 0, 0, 0, 0, 1, 1, 1]],\n",
       " <igraph.Graph at 0x7fde4374b650>)"
      ]
     },
     "execution_count": 559,
     "metadata": {},
     "output_type": "execute_result"
    }
   ],
   "source": [
    "nasbench201['arch']['matrix'][0], nasbench201['arch']['igraph'][0]"
   ]
  },
  {
   "cell_type": "code",
   "execution_count": 563,
   "id": "alone-somewhere",
   "metadata": {},
   "outputs": [
    {
     "data": {
      "image/svg+xml": [
       "<?xml version=\"1.0\" encoding=\"UTF-8\"?>\n",
       "<svg xmlns=\"http://www.w3.org/2000/svg\" xmlns:xlink=\"http://www.w3.org/1999/xlink\" width=\"300pt\" height=\"300pt\" viewBox=\"0 0 300 300\" version=\"1.1\">\n",
       "<g id=\"surface452\">\n",
       "<rect x=\"0\" y=\"0\" width=\"300\" height=\"300\" style=\"fill:rgb(100%,100%,100%);fill-opacity:1;stroke:none;\"/>\n",
       "<path style=\"fill:none;stroke-width:1;stroke-linecap:butt;stroke-linejoin:miter;stroke:rgb(26.666667%,26.666667%,26.666667%);stroke-opacity:1;stroke-miterlimit:10;\" d=\"M 106.664062 68.953125 L 189.117188 32.097656 \"/>\n",
       "<path style=\" stroke:none;fill-rule:nonzero;fill:rgb(26.666667%,26.666667%,26.666667%);fill-opacity:1;\" d=\"M 202.140625 26.277344 L 191.007812 36.332031 L 187.222656 27.867188 L 202.140625 26.277344 \"/>\n",
       "<path style=\"fill:none;stroke-width:1;stroke-linecap:butt;stroke-linejoin:miter;stroke:rgb(26.666667%,26.666667%,26.666667%);stroke-opacity:1;stroke-miterlimit:10;\" d=\"M 20 20 L 85.535156 57.015625 \"/>\n",
       "<path style=\" stroke:none;fill-rule:nonzero;fill:rgb(26.666667%,26.666667%,26.666667%);fill-opacity:1;\" d=\"M 97.957031 64.035156 L 83.257812 61.054688 L 87.816406 52.980469 L 97.957031 64.035156 \"/>\n",
       "<path style=\"fill:none;stroke-width:1;stroke-linecap:butt;stroke-linejoin:miter;stroke:rgb(26.666667%,26.666667%,26.666667%);stroke-opacity:1;stroke-miterlimit:10;\" d=\"M 211.269531 22.199219 L 216.664062 76.316406 \"/>\n",
       "<path style=\" stroke:none;fill-rule:nonzero;fill:rgb(26.666667%,26.666667%,26.666667%);fill-opacity:1;\" d=\"M 218.078125 90.511719 L 212.050781 76.777344 L 221.277344 75.859375 L 218.078125 90.511719 \"/>\n",
       "<path style=\"fill:none;stroke-width:1;stroke-linecap:butt;stroke-linejoin:miter;stroke:rgb(26.666667%,26.666667%,26.666667%);stroke-opacity:1;stroke-miterlimit:10;\" d=\"M 20 20 L 187.003906 21.917969 \"/>\n",
       "<path style=\" stroke:none;fill-rule:nonzero;fill:rgb(26.666667%,26.666667%,26.666667%);fill-opacity:1;\" d=\"M 201.269531 22.082031 L 186.953125 26.554688 L 187.058594 17.285156 L 201.269531 22.082031 \"/>\n",
       "<path style=\"fill:none;stroke-width:1;stroke-linecap:butt;stroke-linejoin:miter;stroke:rgb(26.666667%,26.666667%,26.666667%);stroke-opacity:1;stroke-miterlimit:10;\" d=\"M 219.070312 100.464844 L 74.632812 155.210938 \"/>\n",
       "<path style=\" stroke:none;fill-rule:nonzero;fill:rgb(26.666667%,26.666667%,26.666667%);fill-opacity:1;\" d=\"M 61.292969 160.269531 L 72.992188 150.878906 L 76.277344 159.546875 L 61.292969 160.269531 \"/>\n",
       "<path style=\"fill:none;stroke-width:1;stroke-linecap:butt;stroke-linejoin:miter;stroke:rgb(26.666667%,26.666667%,26.666667%);stroke-opacity:1;stroke-miterlimit:10;\" d=\"M 106.664062 68.953125 L 195.707031 93.914062 \"/>\n",
       "<path style=\" stroke:none;fill-rule:nonzero;fill:rgb(26.666667%,26.666667%,26.666667%);fill-opacity:1;\" d=\"M 209.441406 97.765625 L 194.453125 98.375 L 196.957031 89.449219 L 209.441406 97.765625 \"/>\n",
       "<path style=\"fill:none;stroke-width:1;stroke-linecap:butt;stroke-linejoin:miter;stroke:rgb(26.666667%,26.666667%,26.666667%);stroke-opacity:1;stroke-miterlimit:10;\" d=\"M 51.941406 163.8125 L 121.171875 194.71875 \"/>\n",
       "<path style=\" stroke:none;fill-rule:nonzero;fill:rgb(26.666667%,26.666667%,26.666667%);fill-opacity:1;\" d=\"M 134.195312 200.53125 L 119.28125 198.949219 L 123.058594 190.484375 L 134.195312 200.53125 \"/>\n",
       "<path style=\"fill:none;stroke-width:1;stroke-linecap:butt;stroke-linejoin:miter;stroke:rgb(26.666667%,26.666667%,26.666667%);stroke-opacity:1;stroke-miterlimit:10;\" d=\"M 20 20 L 46.683594 140.125 \"/>\n",
       "<path style=\" stroke:none;fill-rule:nonzero;fill:rgb(26.666667%,26.666667%,26.666667%);fill-opacity:1;\" d=\"M 49.773438 154.050781 L 42.15625 141.128906 L 51.207031 139.117188 L 49.773438 154.050781 \"/>\n",
       "<path style=\"fill:none;stroke-width:1;stroke-linecap:butt;stroke-linejoin:miter;stroke:rgb(26.666667%,26.666667%,26.666667%);stroke-opacity:1;stroke-miterlimit:10;\" d=\"M 143.328125 204.609375 L 256.359375 178.398438 \"/>\n",
       "<path style=\" stroke:none;fill-rule:nonzero;fill:rgb(26.666667%,26.666667%,26.666667%);fill-opacity:1;\" d=\"M 270.257812 175.175781 L 257.410156 182.914062 L 255.3125 173.882812 L 270.257812 175.175781 \"/>\n",
       "<path style=\"fill:none;stroke-width:1;stroke-linecap:butt;stroke-linejoin:miter;stroke:rgb(26.666667%,26.666667%,26.666667%);stroke-opacity:1;stroke-miterlimit:10;\" d=\"M 106.664062 68.953125 L 136.996094 181.183594 \"/>\n",
       "<path style=\" stroke:none;fill-rule:nonzero;fill:rgb(26.666667%,26.666667%,26.666667%);fill-opacity:1;\" d=\"M 140.71875 194.957031 L 132.523438 182.394531 L 141.472656 179.976562 L 140.71875 194.957031 \"/>\n",
       "<path style=\"fill:none;stroke-width:1;stroke-linecap:butt;stroke-linejoin:miter;stroke:rgb(26.666667%,26.666667%,26.666667%);stroke-opacity:1;stroke-miterlimit:10;\" d=\"M 211.269531 22.199219 L 269.933594 150.839844 \"/>\n",
       "<path style=\" stroke:none;fill-rule:nonzero;fill:rgb(26.666667%,26.666667%,26.666667%);fill-opacity:1;\" d=\"M 275.851562 163.820312 L 265.714844 152.761719 L 274.148438 148.917969 L 275.851562 163.820312 \"/>\n",
       "<path style=\"fill:none;stroke-width:1;stroke-linecap:butt;stroke-linejoin:miter;stroke:rgb(26.666667%,26.666667%,26.666667%);stroke-opacity:1;stroke-miterlimit:10;\" d=\"M 219.070312 100.464844 L 264.382812 154.347656 \"/>\n",
       "<path style=\" stroke:none;fill-rule:nonzero;fill:rgb(26.666667%,26.666667%,26.666667%);fill-opacity:1;\" d=\"M 273.5625 165.265625 L 260.835938 157.328125 L 267.929688 151.363281 L 273.5625 165.265625 \"/>\n",
       "<path style=\"fill:none;stroke-width:1;stroke-linecap:butt;stroke-linejoin:miter;stroke:rgb(26.666667%,26.666667%,26.666667%);stroke-opacity:1;stroke-miterlimit:10;\" d=\"M 51.941406 163.8125 L 153.328125 263.027344 \"/>\n",
       "<path style=\" stroke:none;fill-rule:nonzero;fill:rgb(26.666667%,26.666667%,26.666667%);fill-opacity:1;\" d=\"M 163.527344 273.007812 L 150.085938 266.339844 L 156.570312 259.714844 L 163.527344 273.007812 \"/>\n",
       "<path style=\"fill:none;stroke-width:1;stroke-linecap:butt;stroke-linejoin:miter;stroke:rgb(26.666667%,26.666667%,26.666667%);stroke-opacity:1;stroke-miterlimit:10;\" d=\"M 143.328125 204.609375 L 162.398438 257.1875 \"/>\n",
       "<path style=\" stroke:none;fill-rule:nonzero;fill:rgb(26.666667%,26.666667%,26.666667%);fill-opacity:1;\" d=\"M 167.261719 270.597656 L 158.042969 258.769531 L 166.757812 255.609375 L 167.261719 270.597656 \"/>\n",
       "<path style=\"fill:none;stroke-width:1;stroke-linecap:butt;stroke-linejoin:miter;stroke:rgb(26.666667%,26.666667%,26.666667%);stroke-opacity:1;stroke-miterlimit:10;\" d=\"M 280 172.917969 L 188.007812 263.019531 \"/>\n",
       "<path style=\" stroke:none;fill-rule:nonzero;fill:rgb(26.666667%,26.666667%,26.666667%);fill-opacity:1;\" d=\"M 177.816406 273.003906 L 184.765625 259.707031 L 191.253906 266.332031 L 177.816406 273.003906 \"/>\n",
       "<path style=\"fill-rule:nonzero;fill:rgb(100%,0%,0%);fill-opacity:1;stroke-width:1;stroke-linecap:butt;stroke-linejoin:miter;stroke:rgb(0%,0%,0%);stroke-opacity:1;stroke-miterlimit:10;\" d=\"M 30 20 C 30 25.523438 25.523438 30 20 30 C 14.476562 30 10 25.523438 10 20 C 10 14.476562 14.476562 10 20 10 C 25.523438 10 30 14.476562 30 20 \"/>\n",
       "<path style=\"fill-rule:nonzero;fill:rgb(100%,0%,0%);fill-opacity:1;stroke-width:1;stroke-linecap:butt;stroke-linejoin:miter;stroke:rgb(0%,0%,0%);stroke-opacity:1;stroke-miterlimit:10;\" d=\"M 116.664062 68.953125 C 116.664062 74.472656 112.1875 78.953125 106.664062 78.953125 C 101.140625 78.953125 96.664062 74.472656 96.664062 68.953125 C 96.664062 63.429688 101.140625 58.953125 106.664062 58.953125 C 112.1875 58.953125 116.664062 63.429688 116.664062 68.953125 \"/>\n",
       "<path style=\"fill-rule:nonzero;fill:rgb(100%,0%,0%);fill-opacity:1;stroke-width:1;stroke-linecap:butt;stroke-linejoin:miter;stroke:rgb(0%,0%,0%);stroke-opacity:1;stroke-miterlimit:10;\" d=\"M 221.269531 22.199219 C 221.269531 27.71875 216.792969 32.199219 211.269531 32.199219 C 205.746094 32.199219 201.269531 27.71875 201.269531 22.199219 C 201.269531 16.675781 205.746094 12.199219 211.269531 12.199219 C 216.792969 12.199219 221.269531 16.675781 221.269531 22.199219 \"/>\n",
       "<path style=\"fill-rule:nonzero;fill:rgb(100%,0%,0%);fill-opacity:1;stroke-width:1;stroke-linecap:butt;stroke-linejoin:miter;stroke:rgb(0%,0%,0%);stroke-opacity:1;stroke-miterlimit:10;\" d=\"M 229.070312 100.464844 C 229.070312 105.988281 224.59375 110.464844 219.070312 110.464844 C 213.546875 110.464844 209.070312 105.988281 209.070312 100.464844 C 209.070312 94.941406 213.546875 90.464844 219.070312 90.464844 C 224.59375 90.464844 229.070312 94.941406 229.070312 100.464844 \"/>\n",
       "<path style=\"fill-rule:nonzero;fill:rgb(100%,0%,0%);fill-opacity:1;stroke-width:1;stroke-linecap:butt;stroke-linejoin:miter;stroke:rgb(0%,0%,0%);stroke-opacity:1;stroke-miterlimit:10;\" d=\"M 61.941406 163.8125 C 61.941406 169.335938 57.464844 173.8125 51.941406 173.8125 C 46.421875 173.8125 41.941406 169.335938 41.941406 163.8125 C 41.941406 158.289062 46.421875 153.8125 51.941406 153.8125 C 57.464844 153.8125 61.941406 158.289062 61.941406 163.8125 \"/>\n",
       "<path style=\"fill-rule:nonzero;fill:rgb(100%,0%,0%);fill-opacity:1;stroke-width:1;stroke-linecap:butt;stroke-linejoin:miter;stroke:rgb(0%,0%,0%);stroke-opacity:1;stroke-miterlimit:10;\" d=\"M 153.328125 204.609375 C 153.328125 210.132812 148.851562 214.609375 143.328125 214.609375 C 137.804688 214.609375 133.328125 210.132812 133.328125 204.609375 C 133.328125 199.085938 137.804688 194.609375 143.328125 194.609375 C 148.851562 194.609375 153.328125 199.085938 153.328125 204.609375 \"/>\n",
       "<path style=\"fill-rule:nonzero;fill:rgb(100%,0%,0%);fill-opacity:1;stroke-width:1;stroke-linecap:butt;stroke-linejoin:miter;stroke:rgb(0%,0%,0%);stroke-opacity:1;stroke-miterlimit:10;\" d=\"M 290 172.917969 C 290 178.441406 285.523438 182.917969 280 182.917969 C 274.476562 182.917969 270 178.441406 270 172.917969 C 270 167.394531 274.476562 162.917969 280 162.917969 C 285.523438 162.917969 290 167.394531 290 172.917969 \"/>\n",
       "<path style=\"fill-rule:nonzero;fill:rgb(100%,0%,0%);fill-opacity:1;stroke-width:1;stroke-linecap:butt;stroke-linejoin:miter;stroke:rgb(0%,0%,0%);stroke-opacity:1;stroke-miterlimit:10;\" d=\"M 180.671875 280 C 180.671875 285.523438 176.195312 290 170.671875 290 C 165.148438 290 160.671875 285.523438 160.671875 280 C 160.671875 274.476562 165.148438 270 170.671875 270 C 176.195312 270 180.671875 274.476562 180.671875 280 \"/>\n",
       "</g>\n",
       "</svg>\n"
      ],
      "text/plain": [
       "<igraph.drawing.Plot at 0x7fde437b4b10>"
      ]
     },
     "execution_count": 563,
     "metadata": {
      "image/svg+xml": {
       "isolated": true
      }
     },
     "output_type": "execute_result"
    }
   ],
   "source": [
    "\n",
    "igraph.plot(nasbench201['arch']['igraph'][0], bbox=(0, 0, 300, 300))"
   ]
  },
  {
   "cell_type": "code",
   "execution_count": 616,
   "id": "dynamic-motor",
   "metadata": {},
   "outputs": [
    {
     "ename": "TypeError",
     "evalue": "'Graph' object is not iterable",
     "output_type": "error",
     "traceback": [
      "\u001b[0;31m---------------------------------------------------------------------------\u001b[0m",
      "\u001b[0;31mTypeError\u001b[0m                                 Traceback (most recent call last)",
      "\u001b[0;32m<ipython-input-616-6d193c8ad23c>\u001b[0m in \u001b[0;36m<module>\u001b[0;34m\u001b[0m\n\u001b[0;32m----> 1\u001b[0;31m \u001b[0mg\u001b[0m\u001b[0;34m,\u001b[0m \u001b[0m_\u001b[0m \u001b[0;34m=\u001b[0m \u001b[0mdecode_NAS_BENCH_201_8_to_igraph\u001b[0m\u001b[0;34m(\u001b[0m\u001b[0mnasbench201\u001b[0m\u001b[0;34m[\u001b[0m\u001b[0;34m'arch'\u001b[0m\u001b[0;34m]\u001b[0m\u001b[0;34m[\u001b[0m\u001b[0;34m'matrix'\u001b[0m\u001b[0;34m]\u001b[0m\u001b[0;34m[\u001b[0m\u001b[0;36m1\u001b[0m\u001b[0;34m]\u001b[0m\u001b[0;34m)\u001b[0m\u001b[0;34m\u001b[0m\u001b[0;34m\u001b[0m\u001b[0m\n\u001b[0m\u001b[1;32m      2\u001b[0m \u001b[0;34m\u001b[0m\u001b[0m\n\u001b[1;32m      3\u001b[0m \u001b[0migraph\u001b[0m\u001b[0;34m.\u001b[0m\u001b[0mplot\u001b[0m\u001b[0;34m(\u001b[0m\u001b[0mg\u001b[0m\u001b[0;34m,\u001b[0m \u001b[0mbbox\u001b[0m\u001b[0;34m=\u001b[0m\u001b[0;34m(\u001b[0m\u001b[0;36m0\u001b[0m\u001b[0;34m,\u001b[0m \u001b[0;36m0\u001b[0m\u001b[0;34m,\u001b[0m \u001b[0;36m300\u001b[0m\u001b[0;34m,\u001b[0m \u001b[0;36m300\u001b[0m\u001b[0;34m)\u001b[0m\u001b[0;34m)\u001b[0m\u001b[0;34m\u001b[0m\u001b[0;34m\u001b[0m\u001b[0m\n",
      "\u001b[0;31mTypeError\u001b[0m: 'Graph' object is not iterable"
     ]
    }
   ],
   "source": [
    "g, _ = decode_NAS_BENCH_201_8_to_igraph(nasbench201['arch']['matrix'][1])\n",
    "\n",
    "igraph.plot(g, bbox=(0, 0, 300, 300))"
   ]
  },
  {
   "cell_type": "code",
   "execution_count": 617,
   "id": "described-guinea",
   "metadata": {},
   "outputs": [],
   "source": [
    "# NAS-Bench matrix to igraph\n",
    "def decode_NAS_BENCH_201_8_to_igraph(row):\n",
    "    if type(row) == str:\n",
    "        row = eval(row)  # convert string to list of lists\n",
    "    n = len(row)\n",
    "    g = igraph.Graph(directed=True)\n",
    "    g.add_vertices(n)\n",
    "    for i, node in enumerate(row):\n",
    "        g.vs[i]['type'] = node[0]\n",
    "        if i < (n - 2) and i > 0:\n",
    "            g.add_edge(i, i + 1)  # always connect from last node\n",
    "            \n",
    "        \n",
    "#         for j, edge in enumerate(node[1:]):\n",
    "#             if edge == 1:\n",
    "#                 g.add_edge(j, i)\n",
    "#     return g, n\n",
    "\n",
    "g, _ = decode_NAS_BENCH_201_8_to_igraph(nasbench201['arch']['matrix'][0])"
   ]
  },
  {
   "cell_type": "code",
   "execution_count": 618,
   "id": "alone-lesson",
   "metadata": {},
   "outputs": [
    {
     "data": {
      "text/plain": [
       "array([[0., 0., 0., 0.],\n",
       "       [4., 0., 0., 0.],\n",
       "       [2., 1., 0., 0.],\n",
       "       [2., 1., 1., 0.]])"
      ]
     },
     "execution_count": 618,
     "metadata": {},
     "output_type": "execute_result"
    }
   ],
   "source": [
    "def decode_igraph_to_NAS201_matrix(g):\n",
    "    m = [[0.0, 0.0, 0.0, 0.0], [0.0, 0.0, 0.0, 0.0], [0.0, 0.0, 0.0, 0.0], [0.0, 0.0, 0.0, 0.0]]\n",
    "    xys = [(1, 0), (2, 0), (2, 1), (3, 0), (3, 1), (3, 2)]\n",
    "    for i, xy in enumerate(xys):\n",
    "        m[xy[0]][xy[1]] = float(g.vs[i + 1]['type']) - 2\n",
    "    return np.array(m)\n",
    "\n",
    "\n",
    "decode_igraph_to_NAS201_matrix(g)"
   ]
  },
  {
   "cell_type": "code",
   "execution_count": null,
   "id": "equivalent-programming",
   "metadata": {},
   "outputs": [],
   "source": []
  },
  {
   "cell_type": "code",
   "execution_count": 516,
   "id": "daily-characterization",
   "metadata": {},
   "outputs": [
    {
     "name": "stdout",
     "output_type": "stream",
     "text": [
      "|nor_conv_1x1~1|skip_connect~0|+|nor_conv_3x3~1|none~0|+|none~3|nor_conv_1x1~1|+|skip_connect~0|none~2|\n"
     ]
    }
   ],
   "source": [
    "import copy\n",
    "\n",
    "class Structure:\n",
    "    def __init__(self, genotype):\n",
    "        self.node_num = len(genotype) + 1\n",
    "        self.nodes    = []\n",
    "        self.node_N   = [] \n",
    "        \n",
    "        # TODO: Original code does validity checks\n",
    "        for idx, node_info in enumerate(genotype):\n",
    "            self.node_N.append(len(node_info))\n",
    "            self.nodes.append(tuple(copy.deepcopy(node_info)))\n",
    "            \n",
    "    def to_str(self):\n",
    "        strings = []\n",
    "        for node_info in self.nodes:\n",
    "            string = '|'.join([x[0]+'~{:}'.format(x[1]) for x in node_info])\n",
    "            string = '|{:}|'.format(string)\n",
    "            strings.append(string)\n",
    "        return '+'.join(strings)\n",
    "    \n",
    "source = Structure(geno).to_str()\n",
    "print(source)\n"
   ]
  },
  {
   "cell_type": "code",
   "execution_count": 543,
   "id": "processed-myanmar",
   "metadata": {},
   "outputs": [],
   "source": [
    "# full_target = nasbench201['arch']['igraph']\n",
    "# full_source = nasbench201['arch']['str']\n",
    "\n",
    "\n",
    "# # [full_target[full_source.index(_)] for _ in source]\n",
    "# full_target[full_source.index(source)]"
   ]
  },
  {
   "cell_type": "markdown",
   "id": "meaning-myrtle",
   "metadata": {},
   "source": [
    "#### Methods to convert my search space to iGraphs\n"
   ]
  },
  {
   "cell_type": "code",
   "execution_count": 517,
   "id": "alive-escape",
   "metadata": {},
   "outputs": [],
   "source": [
    "# Settings of the MobileNetV3 search space\n",
    "def load_graph_config(graph_data_name, nvt, data_path):\n",
    "\tif graph_data_name is not 'ofa_mbv3':\n",
    "\t\traise NotImplementedError(graph_data_name)\n",
    "\tmax_n=20\n",
    "\tgraph_config = {}\n",
    "\tgraph_config['num_vertex_type'] = nvt + 2  # original types + start/end types\n",
    "\tgraph_config['max_n'] = max_n + 2  # maximum number of nodes\n",
    "\tgraph_config['START_TYPE'] = 0  # predefined start vertex type\n",
    "\tgraph_config['END_TYPE'] = 1  # predefined end vertex type\n",
    "\t\n",
    "\treturn graph_config\n",
    "\n",
    "# For metaNAS we want 3?\n",
    "nvt = 3+2 # 21 # Without in/out node\n",
    "max_n = 3+2 # 20 + 2? "
   ]
  },
  {
   "cell_type": "code",
   "execution_count": 518,
   "id": "valued-durham",
   "metadata": {},
   "outputs": [],
   "source": [
    "def is_valid_DAG(g, START_TYPE=0, END_TYPE=1):\n",
    "\tres = g.is_dag()\n",
    "\tn_start, n_end = 0, 0\n",
    "\tfor v in g.vs:\n",
    "\t\tif v['type'] == START_TYPE:\n",
    "\t\t\tn_start += 1\n",
    "\t\telif v['type'] == END_TYPE:\n",
    "\t\t\tn_end += 1\n",
    "\t\tif v.indegree() == 0 and v['type'] != START_TYPE:\n",
    "\t\t\treturn False\n",
    "\t\tif v.outdegree() == 0 and v['type'] != END_TYPE:\n",
    "\t\t\treturn False\n",
    "\treturn res and n_start == 1 and n_end == 1"
   ]
  },
  {
   "cell_type": "code",
   "execution_count": null,
   "id": "treated-butter",
   "metadata": {},
   "outputs": [],
   "source": []
  },
  {
   "cell_type": "code",
   "execution_count": null,
   "id": "sunset-article",
   "metadata": {},
   "outputs": [],
   "source": []
  },
  {
   "cell_type": "code",
   "execution_count": 622,
   "id": "saved-elder",
   "metadata": {},
   "outputs": [
    {
     "data": {
      "text/plain": [
       "[[0],\n",
       " [6, 1],\n",
       " [5, 1, 0],\n",
       " [5, 0, 1, 0],\n",
       " [6, 1, 0, 0, 0],\n",
       " [6, 0, 1, 0, 0, 0],\n",
       " [6, 0, 0, 1, 1, 0, 0],\n",
       " [1, 0, 0, 0, 0, 1, 1, 1]]"
      ]
     },
     "execution_count": 622,
     "metadata": {},
     "output_type": "execute_result"
    }
   ],
   "source": [
    "\n",
    "nasbench201['arch']['matrix'][2]"
   ]
  },
  {
   "cell_type": "code",
   "execution_count": 11,
   "id": "chronic-establishment",
   "metadata": {},
   "outputs": [
    {
     "data": {
      "text/plain": [
       "[[0],\n",
       " [5, 1],\n",
       " [5, 1, 0],\n",
       " [6, 0, 1, 0],\n",
       " [3, 1, 0, 0, 0],\n",
       " [5, 0, 1, 0, 0, 0],\n",
       " [3, 0, 0, 1, 1, 0, 0],\n",
       " [1, 0, 0, 0, 0, 1, 1, 1]]"
      ]
     },
     "execution_count": 11,
     "metadata": {},
     "output_type": "execute_result"
    }
   ],
   "source": [
    "# NAS-Bench matrix to igraph\n",
    "# if type(row) == str:\n",
    "#     row = eval(row)  # convert string to list of lists\n",
    "# n = len(row)\n",
    "# g = igraph.Graph(directed=True)\n",
    "# g.add_vertices(n)\n",
    "# for i, node in enumerate(row):\n",
    "#     g.vs[i]['type'] = node[0]\n",
    "#     g.vs[i]['label'] = node[0]\n",
    "#     if i < (n - 2) and i > 0:\n",
    "#         g.add_edge(i, i + 1)  # always connect from previous node\n",
    "#     for j, edge in enumerate(node[1:]):\n",
    "#         if edge == 1:\n",
    "#             g.add_edge(j, i)\n",
    "# return g\n",
    "\n",
    "nasbench201['arch']['matrix'][1]"
   ]
  },
  {
   "cell_type": "code",
   "execution_count": 14,
   "id": "attractive-jesus",
   "metadata": {},
   "outputs": [
    {
     "data": {
      "image/svg+xml": [
       "<?xml version=\"1.0\" encoding=\"UTF-8\"?>\n",
       "<svg xmlns=\"http://www.w3.org/2000/svg\" xmlns:xlink=\"http://www.w3.org/1999/xlink\" width=\"300pt\" height=\"300pt\" viewBox=\"0 0 300 300\" version=\"1.1\">\n",
       "<defs>\n",
       "<g>\n",
       "<symbol overflow=\"visible\" id=\"glyph0-0\">\n",
       "<path style=\"stroke:none;\" d=\"M 0.703125 2.46875 L 0.703125 -9.875 L 7.703125 -9.875 L 7.703125 2.46875 Z M 1.484375 1.703125 L 6.921875 1.703125 L 6.921875 -9.078125 L 1.484375 -9.078125 Z M 1.484375 1.703125 \"/>\n",
       "</symbol>\n",
       "<symbol overflow=\"visible\" id=\"glyph0-1\">\n",
       "<path style=\"stroke:none;\" d=\"M 4.453125 -9.296875 C 3.742188 -9.296875 3.207031 -8.945312 2.84375 -8.25 C 2.488281 -7.550781 2.3125 -6.5 2.3125 -5.09375 C 2.3125 -3.695312 2.488281 -2.644531 2.84375 -1.9375 C 3.207031 -1.238281 3.742188 -0.890625 4.453125 -0.890625 C 5.171875 -0.890625 5.707031 -1.238281 6.0625 -1.9375 C 6.414062 -2.644531 6.59375 -3.695312 6.59375 -5.09375 C 6.59375 -6.5 6.414062 -7.550781 6.0625 -8.25 C 5.707031 -8.945312 5.171875 -9.296875 4.453125 -9.296875 Z M 4.453125 -10.390625 C 5.597656 -10.390625 6.472656 -9.9375 7.078125 -9.03125 C 7.679688 -8.125 7.984375 -6.8125 7.984375 -5.09375 C 7.984375 -3.375 7.679688 -2.0625 7.078125 -1.15625 C 6.472656 -0.25 5.597656 0.203125 4.453125 0.203125 C 3.304688 0.203125 2.429688 -0.25 1.828125 -1.15625 C 1.222656 -2.0625 0.921875 -3.375 0.921875 -5.09375 C 0.921875 -6.8125 1.222656 -8.125 1.828125 -9.03125 C 2.429688 -9.9375 3.304688 -10.390625 4.453125 -10.390625 Z M 4.453125 -10.390625 \"/>\n",
       "</symbol>\n",
       "<symbol overflow=\"visible\" id=\"glyph0-2\">\n",
       "<path style=\"stroke:none;\" d=\"M 1.734375 -1.15625 L 4 -1.15625 L 4 -8.953125 L 1.53125 -8.453125 L 1.53125 -9.71875 L 3.984375 -10.203125 L 5.359375 -10.203125 L 5.359375 -1.15625 L 7.609375 -1.15625 L 7.609375 0 L 1.734375 0 Z M 1.734375 -1.15625 \"/>\n",
       "</symbol>\n",
       "<symbol overflow=\"visible\" id=\"glyph0-3\">\n",
       "<path style=\"stroke:none;\" d=\"M 2.6875 -1.15625 L 7.5 -1.15625 L 7.5 0 L 1.03125 0 L 1.03125 -1.15625 C 1.550781 -1.695312 2.265625 -2.425781 3.171875 -3.34375 C 4.078125 -4.257812 4.644531 -4.847656 4.875 -5.109375 C 5.3125 -5.609375 5.617188 -6.03125 5.796875 -6.375 C 5.972656 -6.71875 6.0625 -7.054688 6.0625 -7.390625 C 6.0625 -7.929688 5.867188 -8.375 5.484375 -8.71875 C 5.109375 -9.0625 4.613281 -9.234375 4 -9.234375 C 3.570312 -9.234375 3.117188 -9.15625 2.640625 -9 C 2.160156 -8.851562 1.644531 -8.625 1.09375 -8.3125 L 1.09375 -9.71875 C 1.644531 -9.9375 2.160156 -10.101562 2.640625 -10.21875 C 3.128906 -10.332031 3.578125 -10.390625 3.984375 -10.390625 C 5.035156 -10.390625 5.875 -10.125 6.5 -9.59375 C 7.132812 -9.070312 7.453125 -8.367188 7.453125 -7.484375 C 7.453125 -7.054688 7.375 -6.65625 7.21875 -6.28125 C 7.0625 -5.90625 6.773438 -5.460938 6.359375 -4.953125 C 6.242188 -4.828125 5.878906 -4.445312 5.265625 -3.8125 C 4.660156 -3.175781 3.800781 -2.289062 2.6875 -1.15625 Z M 2.6875 -1.15625 \"/>\n",
       "</symbol>\n",
       "<symbol overflow=\"visible\" id=\"glyph0-4\">\n",
       "<path style=\"stroke:none;\" d=\"M 5.6875 -5.5 C 6.34375 -5.363281 6.851562 -5.070312 7.21875 -4.625 C 7.59375 -4.175781 7.78125 -3.625 7.78125 -2.96875 C 7.78125 -1.957031 7.429688 -1.175781 6.734375 -0.625 C 6.046875 -0.0703125 5.066406 0.203125 3.796875 0.203125 C 3.367188 0.203125 2.925781 0.15625 2.46875 0.0625 C 2.019531 -0.0195312 1.550781 -0.144531 1.0625 -0.3125 L 1.0625 -1.640625 C 1.445312 -1.421875 1.867188 -1.253906 2.328125 -1.140625 C 2.785156 -1.023438 3.257812 -0.96875 3.75 -0.96875 C 4.613281 -0.96875 5.269531 -1.132812 5.71875 -1.46875 C 6.175781 -1.8125 6.40625 -2.3125 6.40625 -2.96875 C 6.40625 -3.570312 6.191406 -4.039062 5.765625 -4.375 C 5.347656 -4.71875 4.765625 -4.890625 4.015625 -4.890625 L 2.828125 -4.890625 L 2.828125 -6.015625 L 4.078125 -6.015625 C 4.753906 -6.015625 5.269531 -6.148438 5.625 -6.421875 C 5.988281 -6.703125 6.171875 -7.097656 6.171875 -7.609375 C 6.171875 -8.128906 5.984375 -8.53125 5.609375 -8.8125 C 5.242188 -9.09375 4.710938 -9.234375 4.015625 -9.234375 C 3.640625 -9.234375 3.234375 -9.191406 2.796875 -9.109375 C 2.367188 -9.023438 1.894531 -8.894531 1.375 -8.71875 L 1.375 -9.953125 C 1.894531 -10.097656 2.382812 -10.207031 2.84375 -10.28125 C 3.300781 -10.351562 3.734375 -10.390625 4.140625 -10.390625 C 5.191406 -10.390625 6.019531 -10.148438 6.625 -9.671875 C 7.238281 -9.203125 7.546875 -8.5625 7.546875 -7.75 C 7.546875 -7.175781 7.382812 -6.695312 7.0625 -6.3125 C 6.738281 -5.925781 6.28125 -5.65625 5.6875 -5.5 Z M 5.6875 -5.5 \"/>\n",
       "</symbol>\n",
       "<symbol overflow=\"visible\" id=\"glyph0-5\">\n",
       "<path style=\"stroke:none;\" d=\"M 5.296875 -9 L 1.8125 -3.5625 L 5.296875 -3.5625 Z M 4.921875 -10.203125 L 6.671875 -10.203125 L 6.671875 -3.5625 L 8.125 -3.5625 L 8.125 -2.40625 L 6.671875 -2.40625 L 6.671875 0 L 5.296875 0 L 5.296875 -2.40625 L 0.6875 -2.40625 L 0.6875 -3.734375 Z M 4.921875 -10.203125 \"/>\n",
       "</symbol>\n",
       "<symbol overflow=\"visible\" id=\"glyph0-6\">\n",
       "<path style=\"stroke:none;\" d=\"M 1.515625 -10.203125 L 6.9375 -10.203125 L 6.9375 -9.046875 L 2.78125 -9.046875 L 2.78125 -6.546875 C 2.976562 -6.609375 3.175781 -6.65625 3.375 -6.6875 C 3.570312 -6.726562 3.773438 -6.75 3.984375 -6.75 C 5.117188 -6.75 6.019531 -6.4375 6.6875 -5.8125 C 7.351562 -5.1875 7.6875 -4.34375 7.6875 -3.28125 C 7.6875 -2.175781 7.34375 -1.316406 6.65625 -0.703125 C 5.976562 -0.0976562 5.015625 0.203125 3.765625 0.203125 C 3.335938 0.203125 2.898438 0.164062 2.453125 0.09375 C 2.015625 0.0195312 1.554688 -0.0859375 1.078125 -0.234375 L 1.078125 -1.625 C 1.492188 -1.40625 1.921875 -1.238281 2.359375 -1.125 C 2.796875 -1.019531 3.253906 -0.96875 3.734375 -0.96875 C 4.523438 -0.96875 5.148438 -1.171875 5.609375 -1.578125 C 6.066406 -1.992188 6.296875 -2.5625 6.296875 -3.28125 C 6.296875 -3.988281 6.066406 -4.546875 5.609375 -4.953125 C 5.148438 -5.367188 4.523438 -5.578125 3.734375 -5.578125 C 3.367188 -5.578125 3 -5.535156 2.625 -5.453125 C 2.257812 -5.378906 1.890625 -5.253906 1.515625 -5.078125 Z M 1.515625 -10.203125 \"/>\n",
       "</symbol>\n",
       "<symbol overflow=\"visible\" id=\"glyph0-7\">\n",
       "<path style=\"stroke:none;\" d=\"M 4.625 -5.65625 C 4 -5.65625 3.503906 -5.441406 3.140625 -5.015625 C 2.785156 -4.585938 2.609375 -4.007812 2.609375 -3.28125 C 2.609375 -2.539062 2.785156 -1.957031 3.140625 -1.53125 C 3.503906 -1.101562 4 -0.890625 4.625 -0.890625 C 5.238281 -0.890625 5.726562 -1.101562 6.09375 -1.53125 C 6.457031 -1.957031 6.640625 -2.539062 6.640625 -3.28125 C 6.640625 -4.007812 6.457031 -4.585938 6.09375 -5.015625 C 5.726562 -5.441406 5.238281 -5.65625 4.625 -5.65625 Z M 7.359375 -9.984375 L 7.359375 -8.71875 C 7.015625 -8.882812 6.664062 -9.007812 6.3125 -9.09375 C 5.957031 -9.1875 5.609375 -9.234375 5.265625 -9.234375 C 4.347656 -9.234375 3.648438 -8.925781 3.171875 -8.3125 C 2.691406 -7.695312 2.421875 -6.765625 2.359375 -5.515625 C 2.617188 -5.910156 2.953125 -6.210938 3.359375 -6.421875 C 3.765625 -6.640625 4.210938 -6.75 4.703125 -6.75 C 5.722656 -6.75 6.53125 -6.4375 7.125 -5.8125 C 7.726562 -5.1875 8.03125 -4.34375 8.03125 -3.28125 C 8.03125 -2.226562 7.71875 -1.382812 7.09375 -0.75 C 6.476562 -0.113281 5.65625 0.203125 4.625 0.203125 C 3.4375 0.203125 2.53125 -0.25 1.90625 -1.15625 C 1.289062 -2.0625 0.984375 -3.375 0.984375 -5.09375 C 0.984375 -6.707031 1.363281 -7.992188 2.125 -8.953125 C 2.894531 -9.910156 3.921875 -10.390625 5.203125 -10.390625 C 5.554688 -10.390625 5.90625 -10.351562 6.25 -10.28125 C 6.601562 -10.21875 6.972656 -10.117188 7.359375 -9.984375 Z M 7.359375 -9.984375 \"/>\n",
       "</symbol>\n",
       "<symbol overflow=\"visible\" id=\"glyph0-8\">\n",
       "<path style=\"stroke:none;\" d=\"M 1.15625 -10.203125 L 7.71875 -10.203125 L 7.71875 -9.625 L 4 0 L 2.5625 0 L 6.046875 -9.046875 L 1.15625 -9.046875 Z M 1.15625 -10.203125 \"/>\n",
       "</symbol>\n",
       "</g>\n",
       "</defs>\n",
       "<g id=\"surface20\">\n",
       "<rect x=\"0\" y=\"0\" width=\"300\" height=\"300\" style=\"fill:rgb(100%,100%,100%);fill-opacity:1;stroke:none;\"/>\n",
       "<path style=\"fill:none;stroke-width:1;stroke-linecap:butt;stroke-linejoin:miter;stroke:rgb(26.666667%,26.666667%,26.666667%);stroke-opacity:1;stroke-miterlimit:10;\" d=\"M 119.1875 209.480469 L 169.675781 112.144531 \"/>\n",
       "<path style=\" stroke:none;fill-rule:nonzero;fill:rgb(26.666667%,26.666667%,26.666667%);fill-opacity:1;\" d=\"M 176.242188 99.484375 L 173.789062 114.28125 L 165.558594 110.011719 L 176.242188 99.484375 \"/>\n",
       "<path style=\"fill:none;stroke-width:1;stroke-linecap:butt;stroke-linejoin:miter;stroke:rgb(26.666667%,26.666667%,26.666667%);stroke-opacity:1;stroke-miterlimit:10;\" d=\"M 119.1875 209.480469 L 173.867188 263.023438 \"/>\n",
       "<path style=\" stroke:none;fill-rule:nonzero;fill:rgb(26.666667%,26.666667%,26.666667%);fill-opacity:1;\" d=\"M 184.058594 273.003906 L 170.625 266.335938 L 177.109375 259.710938 L 184.058594 273.003906 \"/>\n",
       "<path style=\"fill:none;stroke-width:1;stroke-linecap:butt;stroke-linejoin:miter;stroke:rgb(26.666667%,26.666667%,26.666667%);stroke-opacity:1;stroke-miterlimit:10;\" d=\"M 180.847656 90.605469 L 256.121094 104.230469 \"/>\n",
       "<path style=\" stroke:none;fill-rule:nonzero;fill:rgb(26.666667%,26.666667%,26.666667%);fill-opacity:1;\" d=\"M 270.160156 106.773438 L 255.296875 108.792969 L 256.949219 99.671875 L 270.160156 106.773438 \"/>\n",
       "<path style=\"fill:none;stroke-width:1;stroke-linecap:butt;stroke-linejoin:miter;stroke:rgb(26.666667%,26.666667%,26.666667%);stroke-opacity:1;stroke-miterlimit:10;\" d=\"M 119.1875 209.480469 L 43.875 195.761719 \"/>\n",
       "<path style=\" stroke:none;fill-rule:nonzero;fill:rgb(26.666667%,26.666667%,26.666667%);fill-opacity:1;\" d=\"M 29.839844 193.207031 L 44.703125 191.203125 L 43.042969 200.324219 L 29.839844 193.207031 \"/>\n",
       "<path style=\"fill:none;stroke-width:1;stroke-linecap:butt;stroke-linejoin:miter;stroke:rgb(26.666667%,26.666667%,26.666667%);stroke-opacity:1;stroke-miterlimit:10;\" d=\"M 180.847656 90.605469 L 126.167969 36.988281 \"/>\n",
       "<path style=\" stroke:none;fill-rule:nonzero;fill:rgb(26.666667%,26.666667%,26.666667%);fill-opacity:1;\" d=\"M 115.980469 27 L 129.410156 33.679688 L 122.921875 40.296875 L 115.980469 27 \"/>\n",
       "<path style=\"fill:none;stroke-width:1;stroke-linecap:butt;stroke-linejoin:miter;stroke:rgb(26.666667%,26.666667%,26.666667%);stroke-opacity:1;stroke-miterlimit:10;\" d=\"M 191.203125 280 L 205.015625 204.5625 \"/>\n",
       "<path style=\" stroke:none;fill-rule:nonzero;fill:rgb(26.666667%,26.666667%,26.666667%);fill-opacity:1;\" d=\"M 207.585938 190.53125 L 209.574219 205.398438 L 200.457031 203.726562 L 207.585938 190.53125 \"/>\n",
       "<path style=\"fill:none;stroke-width:1;stroke-linecap:butt;stroke-linejoin:miter;stroke:rgb(26.666667%,26.666667%,26.666667%);stroke-opacity:1;stroke-miterlimit:10;\" d=\"M 280 108.554688 L 226.359375 163.351562 \"/>\n",
       "<path style=\" stroke:none;fill-rule:nonzero;fill:rgb(26.666667%,26.666667%,26.666667%);fill-opacity:1;\" d=\"M 216.382812 173.546875 L 223.046875 160.109375 L 229.671875 166.59375 L 216.382812 173.546875 \"/>\n",
       "<path style=\"fill:none;stroke-width:1;stroke-linecap:butt;stroke-linejoin:miter;stroke:rgb(26.666667%,26.666667%,26.666667%);stroke-opacity:1;stroke-miterlimit:10;\" d=\"M 20 191.414062 L 73.683594 136.695312 \"/>\n",
       "<path style=\" stroke:none;fill-rule:nonzero;fill:rgb(26.666667%,26.666667%,26.666667%);fill-opacity:1;\" d=\"M 83.675781 126.511719 L 76.992188 139.941406 L 70.375 133.449219 L 83.675781 126.511719 \"/>\n",
       "<path style=\"fill:none;stroke-width:1;stroke-linecap:butt;stroke-linejoin:miter;stroke:rgb(26.666667%,26.666667%,26.666667%);stroke-opacity:1;stroke-miterlimit:10;\" d=\"M 108.839844 20 L 95.042969 95.503906 \"/>\n",
       "<path style=\" stroke:none;fill-rule:nonzero;fill:rgb(26.666667%,26.666667%,26.666667%);fill-opacity:1;\" d=\"M 92.476562 109.539062 L 90.480469 94.671875 L 99.601562 96.335938 L 92.476562 109.539062 \"/>\n",
       "<path style=\"fill:none;stroke-width:1;stroke-linecap:butt;stroke-linejoin:miter;stroke:rgb(26.666667%,26.666667%,26.666667%);stroke-opacity:1;stroke-miterlimit:10;\" d=\"M 209.386719 180.691406 L 112.238281 130.511719 \"/>\n",
       "<path style=\" stroke:none;fill-rule:nonzero;fill:rgb(26.666667%,26.666667%,26.666667%);fill-opacity:1;\" d=\"M 99.5625 123.964844 L 114.367188 126.394531 L 110.113281 134.628906 L 99.5625 123.964844 \"/>\n",
       "<path style=\"fill-rule:nonzero;fill:rgb(100%,0%,0%);fill-opacity:1;stroke-width:1;stroke-linecap:butt;stroke-linejoin:miter;stroke:rgb(0%,0%,0%);stroke-opacity:1;stroke-miterlimit:10;\" d=\"M 129.1875 209.480469 C 129.1875 215.003906 124.710938 219.480469 119.1875 219.480469 C 113.664062 219.480469 109.1875 215.003906 109.1875 209.480469 C 109.1875 203.957031 113.664062 199.480469 119.1875 199.480469 C 124.710938 199.480469 129.1875 203.957031 129.1875 209.480469 \"/>\n",
       "<path style=\"fill-rule:nonzero;fill:rgb(100%,0%,0%);fill-opacity:1;stroke-width:1;stroke-linecap:butt;stroke-linejoin:miter;stroke:rgb(0%,0%,0%);stroke-opacity:1;stroke-miterlimit:10;\" d=\"M 190.847656 90.605469 C 190.847656 96.128906 186.371094 100.605469 180.847656 100.605469 C 175.324219 100.605469 170.847656 96.128906 170.847656 90.605469 C 170.847656 85.082031 175.324219 80.605469 180.847656 80.605469 C 186.371094 80.605469 190.847656 85.082031 190.847656 90.605469 \"/>\n",
       "<path style=\"fill-rule:nonzero;fill:rgb(100%,0%,0%);fill-opacity:1;stroke-width:1;stroke-linecap:butt;stroke-linejoin:miter;stroke:rgb(0%,0%,0%);stroke-opacity:1;stroke-miterlimit:10;\" d=\"M 201.203125 280 C 201.203125 285.523438 196.726562 290 191.203125 290 C 185.679688 290 181.203125 285.523438 181.203125 280 C 181.203125 274.476562 185.679688 270 191.203125 270 C 196.726562 270 201.203125 274.476562 201.203125 280 \"/>\n",
       "<path style=\"fill-rule:nonzero;fill:rgb(100%,0%,0%);fill-opacity:1;stroke-width:1;stroke-linecap:butt;stroke-linejoin:miter;stroke:rgb(0%,0%,0%);stroke-opacity:1;stroke-miterlimit:10;\" d=\"M 290 108.554688 C 290 114.078125 285.523438 118.554688 280 118.554688 C 274.476562 118.554688 270 114.078125 270 108.554688 C 270 103.03125 274.476562 98.554688 280 98.554688 C 285.523438 98.554688 290 103.03125 290 108.554688 \"/>\n",
       "<path style=\"fill-rule:nonzero;fill:rgb(100%,0%,0%);fill-opacity:1;stroke-width:1;stroke-linecap:butt;stroke-linejoin:miter;stroke:rgb(0%,0%,0%);stroke-opacity:1;stroke-miterlimit:10;\" d=\"M 30 191.414062 C 30 196.9375 25.523438 201.414062 20 201.414062 C 14.476562 201.414062 10 196.9375 10 191.414062 C 10 185.890625 14.476562 181.414062 20 181.414062 C 25.523438 181.414062 30 185.890625 30 191.414062 \"/>\n",
       "<path style=\"fill-rule:nonzero;fill:rgb(100%,0%,0%);fill-opacity:1;stroke-width:1;stroke-linecap:butt;stroke-linejoin:miter;stroke:rgb(0%,0%,0%);stroke-opacity:1;stroke-miterlimit:10;\" d=\"M 118.839844 20 C 118.839844 25.523438 114.363281 30 108.839844 30 C 103.316406 30 98.839844 25.523438 98.839844 20 C 98.839844 14.476562 103.316406 10 108.839844 10 C 114.363281 10 118.839844 14.476562 118.839844 20 \"/>\n",
       "<path style=\"fill-rule:nonzero;fill:rgb(100%,0%,0%);fill-opacity:1;stroke-width:1;stroke-linecap:butt;stroke-linejoin:miter;stroke:rgb(0%,0%,0%);stroke-opacity:1;stroke-miterlimit:10;\" d=\"M 219.386719 180.691406 C 219.386719 186.214844 214.910156 190.691406 209.386719 190.691406 C 203.863281 190.691406 199.386719 186.214844 199.386719 180.691406 C 199.386719 175.171875 203.863281 170.691406 209.386719 170.691406 C 214.910156 170.691406 219.386719 175.171875 219.386719 180.691406 \"/>\n",
       "<path style=\"fill-rule:nonzero;fill:rgb(100%,0%,0%);fill-opacity:1;stroke-width:1;stroke-linecap:butt;stroke-linejoin:miter;stroke:rgb(0%,0%,0%);stroke-opacity:1;stroke-miterlimit:10;\" d=\"M 100.679688 119.375 C 100.679688 124.898438 96.203125 129.375 90.679688 129.375 C 85.15625 129.375 80.679688 124.898438 80.679688 119.375 C 80.679688 113.851562 85.15625 109.375 90.679688 109.375 C 96.203125 109.375 100.679688 113.851562 100.679688 119.375 \"/>\n",
       "<g style=\"fill:rgb(0%,0%,0%);fill-opacity:1;\">\n",
       "  <use xlink:href=\"#glyph0-1\" x=\"114.734375\" y=\"216.328125\"/>\n",
       "</g>\n",
       "<g style=\"fill:rgb(0%,0%,0%);fill-opacity:1;\">\n",
       "  <use xlink:href=\"#glyph0-2\" x=\"176.269531\" y=\"97.359375\"/>\n",
       "</g>\n",
       "<g style=\"fill:rgb(0%,0%,0%);fill-opacity:1;\">\n",
       "  <use xlink:href=\"#glyph0-3\" x=\"186.9375\" y=\"286.847656\"/>\n",
       "</g>\n",
       "<g style=\"fill:rgb(0%,0%,0%);fill-opacity:1;\">\n",
       "  <use xlink:href=\"#glyph0-4\" x=\"275.574219\" y=\"115.398438\"/>\n",
       "</g>\n",
       "<g style=\"fill:rgb(0%,0%,0%);fill-opacity:1;\">\n",
       "  <use xlink:href=\"#glyph0-5\" x=\"15.597656\" y=\"198.167969\"/>\n",
       "</g>\n",
       "<g style=\"fill:rgb(0%,0%,0%);fill-opacity:1;\">\n",
       "  <use xlink:href=\"#glyph0-6\" x=\"104.457031\" y=\"26.753906\"/>\n",
       "</g>\n",
       "<g style=\"fill:rgb(0%,0%,0%);fill-opacity:1;\">\n",
       "  <use xlink:href=\"#glyph0-7\" x=\"204.886719\" y=\"187.539062\"/>\n",
       "</g>\n",
       "<g style=\"fill:rgb(0%,0%,0%);fill-opacity:1;\">\n",
       "  <use xlink:href=\"#glyph0-8\" x=\"86.25\" y=\"126.128906\"/>\n",
       "</g>\n",
       "</g>\n",
       "</svg>\n"
      ],
      "text/plain": [
       "<igraph.drawing.Plot at 0x7fa5c1a095d0>"
      ]
     },
     "execution_count": 14,
     "metadata": {
      "image/svg+xml": {
       "isolated": true
      }
     },
     "output_type": "execute_result"
    }
   ],
   "source": [
    "\n",
    "row = nasbench201['arch']['matrix'][1]\n",
    "n = len(row)\n",
    "g = igraph.Graph(directed=True)\n",
    "g.add_vertices(n)\n",
    "\n",
    "for i, node in enumerate(row):\n",
    "    g.vs[i]['type'] = node[0]\n",
    "    g.vs[i]['label'] = i\n",
    "#     print(i, node[0], i<(n-2), i>0)\n",
    "    # Ignore first node and last node\n",
    "#     if i < (n-2) and i > 0:\n",
    "#         g.add_edge(i, i+1)\n",
    "    for j, edge in enumerate(node[1:]):\n",
    "        if edge == 1:\n",
    "            g.add_edge(j, i)\n",
    "\n",
    "igraph.plot(g, bbox=(0, 0, 300, 300))"
   ]
  },
  {
   "cell_type": "code",
   "execution_count": 603,
   "id": "standard-composite",
   "metadata": {},
   "outputs": [
    {
     "data": {
      "text/plain": [
       "array([[0., 0., 0., 0.],\n",
       "       [3., 0., 0., 0.],\n",
       "       [3., 4., 0., 0.],\n",
       "       [1., 3., 1., 0.]])"
      ]
     },
     "execution_count": 603,
     "metadata": {},
     "output_type": "execute_result"
    }
   ],
   "source": [
    "\n",
    "# To effectively encode the operation information as the node features,\n",
    "# we represent edges of graphs in NAS-Bench201 as nodes, and \n",
    "# nodes of them as edges. Additionally, we add a starting node and an ending node to \n",
    "# the cell during training. \n",
    "\n",
    "def decode_igraph_to_NAS201_matrix(g):\n",
    "    m = [[0.0, 0.0, 0.0, 0.0], [0.0, 0.0, 0.0, 0.0], [0.0, 0.0, 0.0, 0.0], [0.0, 0.0, 0.0, 0.0]]\n",
    "    # All indices to check for entries in m\n",
    "    xys = [(1, 0), (2, 0), (2, 1), (3, 0), (3, 1), (3, 2)]\n",
    "    for i, xy in enumerate(xys):\n",
    "        m[xy[0]][xy[1]] = float(g.vs[i + 1]['type']) - 2\n",
    "    return np.array(m)\n",
    "\n",
    "decode_igraph_to_NAS201_matrix(g)"
   ]
  },
  {
   "cell_type": "code",
   "execution_count": 601,
   "id": "distributed-filter",
   "metadata": {},
   "outputs": [
    {
     "data": {
      "text/plain": [
       "[[0],\n",
       " [5, 1],\n",
       " [5, 1, 0],\n",
       " [6, 0, 1, 0],\n",
       " [3, 1, 0, 0, 0],\n",
       " [5, 0, 1, 0, 0, 0],\n",
       " [3, 0, 0, 1, 1, 0, 0],\n",
       " [1, 0, 0, 0, 0, 1, 1, 1]]"
      ]
     },
     "execution_count": 601,
     "metadata": {},
     "output_type": "execute_result"
    }
   ],
   "source": [
    "\n",
    "nasbench201['arch']['matrix'][1]"
   ]
  },
  {
   "cell_type": "code",
   "execution_count": 586,
   "id": "supported-philosophy",
   "metadata": {},
   "outputs": [
    {
     "data": {
      "image/svg+xml": [
       "<?xml version=\"1.0\" encoding=\"UTF-8\"?>\n",
       "<svg xmlns=\"http://www.w3.org/2000/svg\" xmlns:xlink=\"http://www.w3.org/1999/xlink\" width=\"300pt\" height=\"300pt\" viewBox=\"0 0 300 300\" version=\"1.1\">\n",
       "<defs>\n",
       "<g>\n",
       "<symbol overflow=\"visible\" id=\"glyph0-0\">\n",
       "<path style=\"stroke:none;\" d=\"M 0.703125 2.46875 L 0.703125 -9.875 L 7.703125 -9.875 L 7.703125 2.46875 Z M 1.484375 1.703125 L 6.921875 1.703125 L 6.921875 -9.078125 L 1.484375 -9.078125 Z M 1.484375 1.703125 \"/>\n",
       "</symbol>\n",
       "<symbol overflow=\"visible\" id=\"glyph0-1\">\n",
       "<path style=\"stroke:none;\" d=\"M 4.453125 -9.296875 C 3.742188 -9.296875 3.207031 -8.945312 2.84375 -8.25 C 2.488281 -7.550781 2.3125 -6.5 2.3125 -5.09375 C 2.3125 -3.695312 2.488281 -2.644531 2.84375 -1.9375 C 3.207031 -1.238281 3.742188 -0.890625 4.453125 -0.890625 C 5.171875 -0.890625 5.707031 -1.238281 6.0625 -1.9375 C 6.414062 -2.644531 6.59375 -3.695312 6.59375 -5.09375 C 6.59375 -6.5 6.414062 -7.550781 6.0625 -8.25 C 5.707031 -8.945312 5.171875 -9.296875 4.453125 -9.296875 Z M 4.453125 -10.390625 C 5.597656 -10.390625 6.472656 -9.9375 7.078125 -9.03125 C 7.679688 -8.125 7.984375 -6.8125 7.984375 -5.09375 C 7.984375 -3.375 7.679688 -2.0625 7.078125 -1.15625 C 6.472656 -0.25 5.597656 0.203125 4.453125 0.203125 C 3.304688 0.203125 2.429688 -0.25 1.828125 -1.15625 C 1.222656 -2.0625 0.921875 -3.375 0.921875 -5.09375 C 0.921875 -6.8125 1.222656 -8.125 1.828125 -9.03125 C 2.429688 -9.9375 3.304688 -10.390625 4.453125 -10.390625 Z M 4.453125 -10.390625 \"/>\n",
       "</symbol>\n",
       "<symbol overflow=\"visible\" id=\"glyph0-2\">\n",
       "<path style=\"stroke:none;\" d=\"M 1.734375 -1.15625 L 4 -1.15625 L 4 -8.953125 L 1.53125 -8.453125 L 1.53125 -9.71875 L 3.984375 -10.203125 L 5.359375 -10.203125 L 5.359375 -1.15625 L 7.609375 -1.15625 L 7.609375 0 L 1.734375 0 Z M 1.734375 -1.15625 \"/>\n",
       "</symbol>\n",
       "<symbol overflow=\"visible\" id=\"glyph0-3\">\n",
       "<path style=\"stroke:none;\" d=\"M 2.6875 -1.15625 L 7.5 -1.15625 L 7.5 0 L 1.03125 0 L 1.03125 -1.15625 C 1.550781 -1.695312 2.265625 -2.425781 3.171875 -3.34375 C 4.078125 -4.257812 4.644531 -4.847656 4.875 -5.109375 C 5.3125 -5.609375 5.617188 -6.03125 5.796875 -6.375 C 5.972656 -6.71875 6.0625 -7.054688 6.0625 -7.390625 C 6.0625 -7.929688 5.867188 -8.375 5.484375 -8.71875 C 5.109375 -9.0625 4.613281 -9.234375 4 -9.234375 C 3.570312 -9.234375 3.117188 -9.15625 2.640625 -9 C 2.160156 -8.851562 1.644531 -8.625 1.09375 -8.3125 L 1.09375 -9.71875 C 1.644531 -9.9375 2.160156 -10.101562 2.640625 -10.21875 C 3.128906 -10.332031 3.578125 -10.390625 3.984375 -10.390625 C 5.035156 -10.390625 5.875 -10.125 6.5 -9.59375 C 7.132812 -9.070312 7.453125 -8.367188 7.453125 -7.484375 C 7.453125 -7.054688 7.375 -6.65625 7.21875 -6.28125 C 7.0625 -5.90625 6.773438 -5.460938 6.359375 -4.953125 C 6.242188 -4.828125 5.878906 -4.445312 5.265625 -3.8125 C 4.660156 -3.175781 3.800781 -2.289062 2.6875 -1.15625 Z M 2.6875 -1.15625 \"/>\n",
       "</symbol>\n",
       "<symbol overflow=\"visible\" id=\"glyph0-4\">\n",
       "<path style=\"stroke:none;\" d=\"M 5.6875 -5.5 C 6.34375 -5.363281 6.851562 -5.070312 7.21875 -4.625 C 7.59375 -4.175781 7.78125 -3.625 7.78125 -2.96875 C 7.78125 -1.957031 7.429688 -1.175781 6.734375 -0.625 C 6.046875 -0.0703125 5.066406 0.203125 3.796875 0.203125 C 3.367188 0.203125 2.925781 0.15625 2.46875 0.0625 C 2.019531 -0.0195312 1.550781 -0.144531 1.0625 -0.3125 L 1.0625 -1.640625 C 1.445312 -1.421875 1.867188 -1.253906 2.328125 -1.140625 C 2.785156 -1.023438 3.257812 -0.96875 3.75 -0.96875 C 4.613281 -0.96875 5.269531 -1.132812 5.71875 -1.46875 C 6.175781 -1.8125 6.40625 -2.3125 6.40625 -2.96875 C 6.40625 -3.570312 6.191406 -4.039062 5.765625 -4.375 C 5.347656 -4.71875 4.765625 -4.890625 4.015625 -4.890625 L 2.828125 -4.890625 L 2.828125 -6.015625 L 4.078125 -6.015625 C 4.753906 -6.015625 5.269531 -6.148438 5.625 -6.421875 C 5.988281 -6.703125 6.171875 -7.097656 6.171875 -7.609375 C 6.171875 -8.128906 5.984375 -8.53125 5.609375 -8.8125 C 5.242188 -9.09375 4.710938 -9.234375 4.015625 -9.234375 C 3.640625 -9.234375 3.234375 -9.191406 2.796875 -9.109375 C 2.367188 -9.023438 1.894531 -8.894531 1.375 -8.71875 L 1.375 -9.953125 C 1.894531 -10.097656 2.382812 -10.207031 2.84375 -10.28125 C 3.300781 -10.351562 3.734375 -10.390625 4.140625 -10.390625 C 5.191406 -10.390625 6.019531 -10.148438 6.625 -9.671875 C 7.238281 -9.203125 7.546875 -8.5625 7.546875 -7.75 C 7.546875 -7.175781 7.382812 -6.695312 7.0625 -6.3125 C 6.738281 -5.925781 6.28125 -5.65625 5.6875 -5.5 Z M 5.6875 -5.5 \"/>\n",
       "</symbol>\n",
       "</g>\n",
       "</defs>\n",
       "<g id=\"surface512\">\n",
       "<rect x=\"0\" y=\"0\" width=\"300\" height=\"300\" style=\"fill:rgb(100%,100%,100%);fill-opacity:1;stroke:none;\"/>\n",
       "<path style=\"fill:none;stroke-width:1;stroke-linecap:butt;stroke-linejoin:miter;stroke:rgb(26.666667%,26.666667%,26.666667%);stroke-opacity:1;stroke-miterlimit:10;\" d=\"M 148.613281 20 L 36.976562 134.039062 \"/>\n",
       "<path style=\" stroke:none;fill-rule:nonzero;fill:rgb(26.666667%,26.666667%,26.666667%);fill-opacity:1;\" d=\"M 26.996094 144.234375 L 33.664062 130.796875 L 40.289062 137.28125 L 26.996094 144.234375 \"/>\n",
       "<path style=\"fill:none;stroke-width:1;stroke-linecap:butt;stroke-linejoin:miter;stroke:rgb(26.666667%,26.666667%,26.666667%);stroke-opacity:1;stroke-miterlimit:10;\" d=\"M 148.613281 20 L 151.117188 255.734375 \"/>\n",
       "<path style=\" stroke:none;fill-rule:nonzero;fill:rgb(26.666667%,26.666667%,26.666667%);fill-opacity:1;\" d=\"M 151.265625 270 L 146.480469 255.785156 L 155.75 255.6875 L 151.265625 270 \"/>\n",
       "<path style=\"fill:none;stroke-width:1;stroke-linecap:butt;stroke-linejoin:miter;stroke:rgb(26.666667%,26.666667%,26.666667%);stroke-opacity:1;stroke-miterlimit:10;\" d=\"M 20 151.378906 L 134.035156 263.023438 \"/>\n",
       "<path style=\" stroke:none;fill-rule:nonzero;fill:rgb(26.666667%,26.666667%,26.666667%);fill-opacity:1;\" d=\"M 144.226562 273.003906 L 130.789062 266.335938 L 137.277344 259.710938 L 144.226562 273.003906 \"/>\n",
       "<path style=\"fill:none;stroke-width:1;stroke-linecap:butt;stroke-linejoin:miter;stroke:rgb(26.666667%,26.666667%,26.666667%);stroke-opacity:1;stroke-miterlimit:10;\" d=\"M 148.613281 20 L 262.65625 131.617188 \"/>\n",
       "<path style=\" stroke:none;fill-rule:nonzero;fill:rgb(26.666667%,26.666667%,26.666667%);fill-opacity:1;\" d=\"M 272.851562 141.597656 L 259.414062 134.929688 L 265.898438 128.304688 L 272.851562 141.597656 \"/>\n",
       "<path style=\"fill:none;stroke-width:1;stroke-linecap:butt;stroke-linejoin:miter;stroke:rgb(26.666667%,26.666667%,26.666667%);stroke-opacity:1;stroke-miterlimit:10;\" d=\"M 20 151.378906 L 255.734375 148.851562 \"/>\n",
       "<path style=\" stroke:none;fill-rule:nonzero;fill:rgb(26.666667%,26.666667%,26.666667%);fill-opacity:1;\" d=\"M 270 148.699219 L 255.785156 153.484375 L 255.6875 144.214844 L 270 148.699219 \"/>\n",
       "<path style=\"fill:none;stroke-width:1;stroke-linecap:butt;stroke-linejoin:miter;stroke:rgb(26.666667%,26.666667%,26.666667%);stroke-opacity:1;stroke-miterlimit:10;\" d=\"M 151.371094 280 L 263.027344 165.933594 \"/>\n",
       "<path style=\" stroke:none;fill-rule:nonzero;fill:rgb(26.666667%,26.666667%,26.666667%);fill-opacity:1;\" d=\"M 273.003906 155.738281 L 266.339844 169.175781 L 259.714844 162.6875 L 273.003906 155.738281 \"/>\n",
       "<path style=\"fill-rule:nonzero;fill:rgb(100%,0%,0%);fill-opacity:1;stroke-width:1;stroke-linecap:butt;stroke-linejoin:miter;stroke:rgb(0%,0%,0%);stroke-opacity:1;stroke-miterlimit:10;\" d=\"M 158.613281 20 C 158.613281 25.523438 154.136719 30 148.613281 30 C 143.09375 30 138.613281 25.523438 138.613281 20 C 138.613281 14.476562 143.09375 10 148.613281 10 C 154.136719 10 158.613281 14.476562 158.613281 20 \"/>\n",
       "<path style=\"fill-rule:nonzero;fill:rgb(100%,0%,0%);fill-opacity:1;stroke-width:1;stroke-linecap:butt;stroke-linejoin:miter;stroke:rgb(0%,0%,0%);stroke-opacity:1;stroke-miterlimit:10;\" d=\"M 30 151.378906 C 30 156.902344 25.523438 161.378906 20 161.378906 C 14.476562 161.378906 10 156.902344 10 151.378906 C 10 145.859375 14.476562 141.378906 20 141.378906 C 25.523438 141.378906 30 145.859375 30 151.378906 \"/>\n",
       "<path style=\"fill-rule:nonzero;fill:rgb(100%,0%,0%);fill-opacity:1;stroke-width:1;stroke-linecap:butt;stroke-linejoin:miter;stroke:rgb(0%,0%,0%);stroke-opacity:1;stroke-miterlimit:10;\" d=\"M 161.371094 280 C 161.371094 285.523438 156.894531 290 151.371094 290 C 145.851562 290 141.371094 285.523438 141.371094 280 C 141.371094 274.476562 145.851562 270 151.371094 270 C 156.894531 270 161.371094 274.476562 161.371094 280 \"/>\n",
       "<path style=\"fill-rule:nonzero;fill:rgb(100%,0%,0%);fill-opacity:1;stroke-width:1;stroke-linecap:butt;stroke-linejoin:miter;stroke:rgb(0%,0%,0%);stroke-opacity:1;stroke-miterlimit:10;\" d=\"M 290 148.589844 C 290 154.113281 285.523438 158.589844 280 158.589844 C 274.476562 158.589844 270 154.113281 270 148.589844 C 270 143.066406 274.476562 138.589844 280 138.589844 C 285.523438 138.589844 290 143.066406 290 148.589844 \"/>\n",
       "<g style=\"fill:rgb(0%,0%,0%);fill-opacity:1;\">\n",
       "  <use xlink:href=\"#glyph0-1\" x=\"144.164062\" y=\"26.847656\"/>\n",
       "</g>\n",
       "<g style=\"fill:rgb(0%,0%,0%);fill-opacity:1;\">\n",
       "  <use xlink:href=\"#glyph0-2\" x=\"15.421875\" y=\"158.132812\"/>\n",
       "</g>\n",
       "<g style=\"fill:rgb(0%,0%,0%);fill-opacity:1;\">\n",
       "  <use xlink:href=\"#glyph0-3\" x=\"147.105469\" y=\"286.847656\"/>\n",
       "</g>\n",
       "<g style=\"fill:rgb(0%,0%,0%);fill-opacity:1;\">\n",
       "  <use xlink:href=\"#glyph0-4\" x=\"275.574219\" y=\"155.4375\"/>\n",
       "</g>\n",
       "</g>\n",
       "</svg>\n"
      ],
      "text/plain": [
       "<igraph.drawing.Plot at 0x7fde56f6ced0>"
      ]
     },
     "execution_count": 586,
     "metadata": {
      "image/svg+xml": {
       "isolated": true
      }
     },
     "output_type": "execute_result"
    }
   ],
   "source": [
    "\n",
    "matrix = decode_igraph_to_NAS201_matrix(g)\n",
    "\n",
    "g = Graph(directed=True)\n",
    "g.add_vertices(4)\n",
    "\n",
    "for i, row in enumerate(matrix):\n",
    "    g.vs[i]['label'] = i\n",
    "    for j, edge in enumerate(row):\n",
    "        if edge != 0:\n",
    "            g.add_edges([(j, i)])\n",
    "\n",
    "# ig.plot(g, bbox=(0, 0, 300, 300))"
   ]
  },
  {
   "cell_type": "code",
   "execution_count": null,
   "id": "rational-knife",
   "metadata": {},
   "outputs": [],
   "source": [
    "# TODO: Matrix to Metad2a matrix\n",
    "\n",
    "m = []\n",
    "\n",
    "\n",
    "\n",
    "# TODO: Metad2a matrix to iGraph (For MetaNAS)"
   ]
  },
  {
   "cell_type": "code",
   "execution_count": 577,
   "id": "desirable-swiss",
   "metadata": {},
   "outputs": [
    {
     "data": {
      "text/plain": [
       "[[0],\n",
       " [5, 1],\n",
       " [5, 1, 0],\n",
       " [6, 0, 1, 0],\n",
       " [3, 1, 0, 0, 0],\n",
       " [5, 0, 1, 0, 0, 0],\n",
       " [3, 0, 0, 1, 1, 0, 0],\n",
       " [1, 0, 0, 0, 0, 1, 1, 1]]"
      ]
     },
     "execution_count": 577,
     "metadata": {},
     "output_type": "execute_result"
    }
   ],
   "source": []
  },
  {
   "cell_type": "code",
   "execution_count": 595,
   "id": "connected-caution",
   "metadata": {},
   "outputs": [
    {
     "name": "stdout",
     "output_type": "stream",
     "text": [
      "igraph.Vertex(<igraph.Graph object at 0x7fde5456d150>, 0, {'type': 0, 'label': 0})\n",
      "igraph.Vertex(<igraph.Graph object at 0x7fde5456d150>, 1, {'type': 5, 'label': 5})\n",
      "igraph.Vertex(<igraph.Graph object at 0x7fde5456d150>, 2, {'type': 5, 'label': 5})\n",
      "igraph.Vertex(<igraph.Graph object at 0x7fde5456d150>, 3, {'type': 6, 'label': 6})\n",
      "igraph.Vertex(<igraph.Graph object at 0x7fde5456d150>, 4, {'type': 3, 'label': 3})\n",
      "igraph.Vertex(<igraph.Graph object at 0x7fde5456d150>, 5, {'type': 5, 'label': 5})\n",
      "igraph.Vertex(<igraph.Graph object at 0x7fde5456d150>, 6, {'type': 3, 'label': 3})\n",
      "igraph.Vertex(<igraph.Graph object at 0x7fde5456d150>, 7, {'type': 1, 'label': 1})\n"
     ]
    }
   ],
   "source": [
    "for v in g.vs:\n",
    "    print(v)"
   ]
  },
  {
   "cell_type": "code",
   "execution_count": 593,
   "id": "restricted-going",
   "metadata": {},
   "outputs": [
    {
     "name": "stdout",
     "output_type": "stream",
     "text": [
      "0.0\n",
      "5\n",
      "3\n",
      "0.0\n",
      "5\n",
      "3\n",
      "0.0\n",
      "6\n",
      "4\n",
      "0.0\n",
      "3\n",
      "1\n",
      "0.0\n",
      "5\n",
      "3\n",
      "0.0\n",
      "3\n",
      "1\n"
     ]
    },
    {
     "data": {
      "text/plain": [
       "[[0.0, 0.0, 0.0, 0.0],\n",
       " [3.0, 0.0, 0.0, 0.0],\n",
       " [3.0, 4.0, 0.0, 0.0],\n",
       " [1.0, 3.0, 1.0, 0.0]]"
      ]
     },
     "execution_count": 593,
     "metadata": {},
     "output_type": "execute_result"
    }
   ],
   "source": [
    "m = [[0.0, 0.0, 0.0, 0.0],\n",
    "     [0.0, 0.0, 0.0, 0.0],\n",
    "     [0.0, 0.0, 0.0, 0.0],\n",
    "     [0.0, 0.0, 0.0, 0.0]]\n",
    "\n",
    "xys = [(1, 0), (2, 0), (2, 1), (3, 0), (3, 1), (3, 2)]\n",
    "\n",
    "\n",
    "for i, xy in enumerate(xys):\n",
    "    print(m[xy[0]][xy[1]])\n",
    "    print(g.vs[i+1][\"type\"])\n",
    "    print(g.vs[i+1][\"type\"]-2)\n",
    "    m[xy[0]][xy[1]] = float(g.vs[i + 1]['type']) - 2\n",
    "m"
   ]
  },
  {
   "cell_type": "code",
   "execution_count": 592,
   "id": "actual-netherlands",
   "metadata": {},
   "outputs": [
    {
     "data": {
      "text/plain": [
       "'|nor_conv_3x3~0|+|nor_conv_3x3~0|avg_pool_3x3~1|+|skip_connect~0|nor_conv_3x3~1|skip_connect~2|'"
      ]
     },
     "execution_count": 592,
     "metadata": {},
     "output_type": "execute_result"
    }
   ],
   "source": [
    "nasbench201['arch']['str'][1]"
   ]
  },
  {
   "cell_type": "code",
   "execution_count": null,
   "id": "obvious-surge",
   "metadata": {},
   "outputs": [],
   "source": []
  }
 ],
 "metadata": {
  "kernelspec": {
   "display_name": "Python 3.7.10 64-bit ('meta': conda)",
   "language": "python",
   "name": "python3710jvsc74a57bd0b1d57bbef129b95556cf4acac245eaf539d69532a51fcbf5e76efb5e83c89ceb"
  },
  "language_info": {
   "codemirror_mode": {
    "name": "ipython",
    "version": 3
   },
   "file_extension": ".py",
   "mimetype": "text/x-python",
   "name": "python",
   "nbconvert_exporter": "python",
   "pygments_lexer": "ipython3",
   "version": "3.7.10"
  }
 },
 "nbformat": 4,
 "nbformat_minor": 5
}
