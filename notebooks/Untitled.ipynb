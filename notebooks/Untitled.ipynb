{
 "cells": [
  {
   "cell_type": "code",
   "execution_count": 585,
   "id": "coordinate-survivor",
   "metadata": {},
   "outputs": [],
   "source": [
    "import os\n",
    "import time\n",
    "\n",
    "import numpy as np\n",
    "\n",
    "import igraph\n",
    "from igraph import Graph\n",
    "\n",
    "import torch\n",
    "from torch import nn, optim\n",
    "from torch.optim.lr_scheduler import ReduceLROnPlateau\n",
    "import torch.nn.functional as F\n",
    "\n",
    "from tqdm import tqdm\n",
    "from scipy.stats import pearsonr\n",
    "from graphviz import Digraph\n",
    "import scipy\n",
    "\n",
    "import matplotlib.pyplot as plt\n",
    "\n",
    "nasbench201 = torch.load('/home/rob/Git/meta-fsl-nas/metanas/metanas/meta_predictor/data/nasbench201.pt')"
   ]
  },
  {
   "cell_type": "markdown",
   "id": "printable-single",
   "metadata": {},
   "source": [
    "## Make input iGraph for meta-predictor"
   ]
  },
  {
   "cell_type": "code",
   "execution_count": 604,
   "id": "indie-rebel",
   "metadata": {},
   "outputs": [
    {
     "name": "stdout",
     "output_type": "stream",
     "text": [
      "tensor([1.0007, 1.0008], grad_fn=<ViewBackward>)\n",
      "top_k\n",
      "tensor([1.0008, 1.0007], grad_fn=<TopkBackward>)\n",
      "tensor([1, 0]) \n",
      "\n",
      "tensor([1.0005, 1.0002, 1.0008], grad_fn=<ViewBackward>)\n",
      "top_k\n",
      "tensor([1.0008, 1.0005], grad_fn=<TopkBackward>)\n",
      "tensor([2, 0]) \n",
      "\n",
      "tensor([1.0004, 1.0005, 1.0006, 1.0008], grad_fn=<ViewBackward>)\n",
      "top_k\n",
      "tensor([1.0008, 1.0006], grad_fn=<TopkBackward>)\n",
      "tensor([3, 2]) \n",
      "\n"
     ]
    },
    {
     "data": {
      "text/plain": [
       "[[('nor_conv_3x3', 1), ('nor_conv_3x3', 0)],\n",
       " [('nor_conv_1x1', 2), ('nor_conv_1x1', 0)],\n",
       " [('nor_conv_1x1', 3), ('nor_conv_3x3', 2)]]"
      ]
     },
     "execution_count": 604,
     "metadata": {},
     "output_type": "execute_result"
    }
   ],
   "source": [
    "PRIMITIVES_FEWSHOT = [\n",
    "    \"max_pool_3x3\",\n",
    "    \"avg_pool_3x3\",\n",
    "    \"skip_connect\",  # identity\n",
    "    \"conv_1x5_5x1\",\n",
    "    \"conv_3x3\",\n",
    "    \"sep_conv_3x3\",\n",
    "    # \"sep_conv_5x5\",  # remove\n",
    "    \"dil_conv_3x3\",\n",
    "    # \"dil_conv_5x5\",  # remove\n",
    "    # \"none\",  # remove\n",
    "]\n",
    "\n",
    "\n",
    "PRIMITIVES_NAS_BENCH_201 = [\n",
    "    'none',\n",
    "    'skip_connect',\n",
    "    'nor_conv_1x1',\n",
    "    'nor_conv_3x3',\n",
    "    'avg_pool_3x3'\n",
    "]\n",
    "\n",
    "n_nodes = 3\n",
    "n_ops = len(PRIMITIVES_NAS_BENCH_201)\n",
    "\n",
    "alpha_normal = []\n",
    "\n",
    "for i in range(n_nodes):\n",
    "    alpha_normal.append(nn.Parameter(\n",
    "        1e-3 * torch.randn(i + 2, n_ops)* 0.5 + 1))\n",
    "\n",
    "def parse(alpha, k, primitives=PRIMITIVES_NAS_BENCH_201):\n",
    "    gene = []\n",
    "    for edges in alpha:\n",
    "        edge_max, primitive_indices = torch.topk(\n",
    "            edges[:, :], 1\n",
    "        )\n",
    "        print(edge_max.view(-1))\n",
    "        \n",
    "        topk_edge_values, topk_edge_indices = torch.topk(edge_max.view(-1), k)\n",
    "        \n",
    "        print(\"top_k\")\n",
    "        print(topk_edge_values)\n",
    "        print(topk_edge_indices, \"\\n\")\n",
    "        \n",
    "        node_gene = []\n",
    "        for edge_idx in topk_edge_indices:\n",
    "            prim_idx = primitive_indices[edge_idx]\n",
    "            prim = primitives[prim_idx]\n",
    "            node_gene.append((prim, edge_idx.item()))\n",
    "\n",
    "        gene.append(node_gene)\n",
    "    return gene\n",
    "\n",
    "geno = parse(alpha_normal, k=2)\n",
    "geno"
   ]
  },
  {
   "cell_type": "code",
   "execution_count": 607,
   "id": "third-being",
   "metadata": {},
   "outputs": [
    {
     "data": {
      "text/plain": [
       "['none', 'skip_connect', 'nor_conv_1x1', 'nor_conv_3x3', 'avg_pool_3x3']"
      ]
     },
     "execution_count": 607,
     "metadata": {},
     "output_type": "execute_result"
    }
   ],
   "source": [
    "\n",
    "# PRIMITIVES_NAS_BENCH_201\n"
   ]
  },
  {
   "cell_type": "code",
   "execution_count": 613,
   "id": "breeding-modem",
   "metadata": {},
   "outputs": [
    {
     "name": "stdout",
     "output_type": "stream",
     "text": [
      "0 [('nor_conv_3x3', 1), ('nor_conv_3x3', 0)]\n",
      "3 1\n",
      "3 0\n",
      "1 [('nor_conv_1x1', 2), ('nor_conv_1x1', 0)]\n",
      "2 2\n",
      "2 0\n",
      "2 [('nor_conv_1x1', 3), ('nor_conv_3x3', 2)]\n",
      "2 3\n",
      "3 2\n"
     ]
    },
    {
     "data": {
      "image/svg+xml": [
       "<?xml version=\"1.0\" encoding=\"UTF-8\"?>\n",
       "<svg xmlns=\"http://www.w3.org/2000/svg\" xmlns:xlink=\"http://www.w3.org/1999/xlink\" width=\"300pt\" height=\"300pt\" viewBox=\"0 0 300 300\" version=\"1.1\">\n",
       "<g id=\"surface20\">\n",
       "<rect x=\"0\" y=\"0\" width=\"300\" height=\"300\" style=\"fill:rgb(100%,100%,100%);fill-opacity:1;stroke:none;\"/>\n",
       "<path style=\"fill-rule:nonzero;fill:rgb(100%,0%,0%);fill-opacity:1;stroke-width:1;stroke-linecap:butt;stroke-linejoin:miter;stroke:rgb(0%,0%,0%);stroke-opacity:1;stroke-miterlimit:10;\" d=\"M 198.769531 280 C 198.769531 285.523438 194.292969 290 188.769531 290 C 183.25 290 178.769531 285.523438 178.769531 280 C 178.769531 274.476562 183.25 270 188.769531 270 C 194.292969 270 198.769531 274.476562 198.769531 280 \"/>\n",
       "<path style=\"fill-rule:nonzero;fill:rgb(100%,0%,0%);fill-opacity:1;stroke-width:1;stroke-linecap:butt;stroke-linejoin:miter;stroke:rgb(0%,0%,0%);stroke-opacity:1;stroke-miterlimit:10;\" d=\"M 160.324219 150.050781 C 160.324219 155.574219 155.84375 160.050781 150.324219 160.050781 C 144.800781 160.050781 140.324219 155.574219 140.324219 150.050781 C 140.324219 144.527344 144.800781 140.050781 150.324219 140.050781 C 155.84375 140.050781 160.324219 144.527344 160.324219 150.050781 \"/>\n",
       "<path style=\"fill-rule:nonzero;fill:rgb(100%,0%,0%);fill-opacity:1;stroke-width:1;stroke-linecap:butt;stroke-linejoin:miter;stroke:rgb(0%,0%,0%);stroke-opacity:1;stroke-miterlimit:10;\" d=\"M 30 119.570312 C 30 125.09375 25.523438 129.570312 20 129.570312 C 14.476562 129.570312 10 125.09375 10 119.570312 C 10 114.050781 14.476562 109.570312 20 109.570312 C 25.523438 109.570312 30 114.050781 30 119.570312 \"/>\n",
       "<path style=\"fill-rule:nonzero;fill:rgb(100%,0%,0%);fill-opacity:1;stroke-width:1;stroke-linecap:butt;stroke-linejoin:miter;stroke:rgb(0%,0%,0%);stroke-opacity:1;stroke-miterlimit:10;\" d=\"M 250.507812 50.175781 C 250.507812 55.699219 246.03125 60.175781 240.507812 60.175781 C 234.988281 60.175781 230.507812 55.699219 230.507812 50.175781 C 230.507812 44.65625 234.988281 40.175781 240.507812 40.175781 C 246.03125 40.175781 250.507812 44.65625 250.507812 50.175781 \"/>\n",
       "<path style=\"fill-rule:nonzero;fill:rgb(100%,0%,0%);fill-opacity:1;stroke-width:1;stroke-linecap:butt;stroke-linejoin:miter;stroke:rgb(0%,0%,0%);stroke-opacity:1;stroke-miterlimit:10;\" d=\"M 290 180.359375 C 290 185.882812 285.523438 190.359375 280 190.359375 C 274.476562 190.359375 270 185.882812 270 180.359375 C 270 174.835938 274.476562 170.359375 280 170.359375 C 285.523438 170.359375 290 174.835938 290 180.359375 \"/>\n",
       "<path style=\"fill-rule:nonzero;fill:rgb(100%,0%,0%);fill-opacity:1;stroke-width:1;stroke-linecap:butt;stroke-linejoin:miter;stroke:rgb(0%,0%,0%);stroke-opacity:1;stroke-miterlimit:10;\" d=\"M 120.453125 20 C 120.453125 25.523438 115.976562 30 110.453125 30 C 104.933594 30 100.453125 25.523438 100.453125 20 C 100.453125 14.476562 104.933594 10 110.453125 10 C 115.976562 10 120.453125 14.476562 120.453125 20 \"/>\n",
       "<path style=\"fill-rule:nonzero;fill:rgb(100%,0%,0%);fill-opacity:1;stroke-width:1;stroke-linecap:butt;stroke-linejoin:miter;stroke:rgb(0%,0%,0%);stroke-opacity:1;stroke-miterlimit:10;\" d=\"M 68.839844 249.320312 C 68.839844 254.84375 64.363281 259.320312 58.839844 259.320312 C 53.316406 259.320312 48.839844 254.84375 48.839844 249.320312 C 48.839844 243.796875 53.316406 239.320312 58.839844 239.320312 C 64.363281 239.320312 68.839844 243.796875 68.839844 249.320312 \"/>\n",
       "</g>\n",
       "</svg>\n"
      ],
      "text/plain": [
       "<igraph.drawing.Plot at 0x7fd327e92ed0>"
      ]
     },
     "execution_count": 613,
     "metadata": {
      "image/svg+xml": {
       "isolated": true
      }
     },
     "output_type": "execute_result"
    }
   ],
   "source": [
    "# the 2, original input nodes\n",
    "# TODO: Should be plus 2\n",
    "\n",
    "\n",
    "primitives = PRIMITIVES_NAS_BENCH_201\n",
    "n_edges = sum([len(x) for x in geno])\n",
    "n = len(geno) + 4 # start, end node\n",
    "\n",
    "g = Graph(directed=True)\n",
    "g.add_vertices(n)\n",
    "\n",
    "for i, node in enumerate(geno):\n",
    "    print(i, node)\n",
    "    \n",
    "    for j, edge in enumerate(node):\n",
    "        edge_op, edge_in = edge\n",
    "        edge_op = primitives.index(edge_op)\n",
    "        \n",
    "        \n",
    "        print(edge_op, edge_in)\n",
    "# for i, edges in enumerate(alpha_normal):\n",
    "# #     print(f\"node {i}\")\n",
    "#     g.vs[i]['label'] = i\n",
    "#     for j, edge in enumerate(edges):\n",
    "# #         print(j, i+2)\n",
    "#         g.add_edges([(j, i+2)])\n",
    "        \n",
    "        \n",
    "ig.plot(g, bbox=(0, 0, 300, 300))"
   ]
  },
  {
   "cell_type": "code",
   "execution_count": 612,
   "id": "adjusted-archive",
   "metadata": {},
   "outputs": [
    {
     "name": "stdout",
     "output_type": "stream",
     "text": [
      "[('nor_conv_3x3', 1), ('nor_conv_3x3', 0)]\n",
      "[('nor_conv_1x1', 2), ('nor_conv_1x1', 0)]\n",
      "[('nor_conv_1x1', 3), ('nor_conv_3x3', 2)]\n"
     ]
    },
    {
     "data": {
      "text/plain": [
       "6"
      ]
     },
     "execution_count": 612,
     "metadata": {},
     "output_type": "execute_result"
    }
   ],
   "source": [
    "for i in geno:\n",
    "    print(i)\n",
    "    \n",
    "n_edges"
   ]
  },
  {
   "cell_type": "code",
   "execution_count": 620,
   "id": "dominant-hydrogen",
   "metadata": {},
   "outputs": [
    {
     "data": {
      "text/plain": [
       "[0, 5, 5, 4, 4, 4, 5, 1]"
      ]
     },
     "execution_count": 620,
     "metadata": {},
     "output_type": "execute_result"
    }
   ],
   "source": [
    "# Limit to 6 inputs?\n",
    "\n",
    "n_edges = sum([len(x) for x in geno])\n",
    "edges = [0]\n",
    "\n",
    "for node in geno:\n",
    "    for op, _ in node:\n",
    "        # plus two, to not confuse the \n",
    "        # start node and end node\n",
    "        op = primitives.index(op) + 2\n",
    "        edges.append(op)\n",
    "        \n",
    "edges.append(1)\n",
    "edges"
   ]
  },
  {
   "cell_type": "code",
   "execution_count": null,
   "id": "superb-revision",
   "metadata": {},
   "outputs": [],
   "source": [
    "# 2 more input nodes than original\n",
    "\n",
    "m = [[0],       # Added input node\n",
    "#      [3, 1],    # Input node 1, skip-conn (DARTS)\n",
    "#      [3, 1, 0], # Input node 2, skip-conn (DARTS)\n",
    "     [5, 1]\n",
    "     [5, 1, 0]\n",
    "     [4, 0, 1, 0]\n",
    "     [4, 1, 0, 0, 0]\n",
    "     [4, 0, 1, 0, 0, 0]\n",
    "     [5, 0, 0, 1, 1, 0, 0]\n",
    "     [1, 0, 0, 0, 0, 1, 1, 1]]"
   ]
  },
  {
   "cell_type": "code",
   "execution_count": null,
   "id": "packed-money",
   "metadata": {},
   "outputs": [],
   "source": []
  },
  {
   "cell_type": "code",
   "execution_count": null,
   "id": "hollow-correspondence",
   "metadata": {},
   "outputs": [],
   "source": [
    "primitives = PRIMITIVES_NAS_BENCH_201\n",
    "n_edges = sum([len(x) for x in geno])\n",
    "n = len(geno) + 4 # start, end node\n",
    "\n",
    "g = Graph(directed=True)\n",
    "g.add_vertices(n)\n",
    "\n",
    "for i, node in enumerate(geno):\n",
    "    print(i, node)\n",
    "    \n",
    "    for j, edge in enumerate(node):\n",
    "        edge_op, edge_in = edge\n",
    "        edge_op = primitives.index(edge_op)\n",
    "        \n",
    "        \n",
    "        print(edge_op, edge_in)\n",
    "# for i, edges in enumerate(alpha_normal):\n",
    "# #     print(f\"node {i}\")\n",
    "#     g.vs[i]['label'] = i\n",
    "#     for j, edge in enumerate(edges):\n",
    "# #         print(j, i+2)\n",
    "#         g.add_edges([(j, i+2)])\n",
    "        \n",
    "        \n",
    "ig.plot(g, bbox=(0, 0, 300, 300))"
   ]
  },
  {
   "cell_type": "code",
   "execution_count": null,
   "id": "numeric-party",
   "metadata": {},
   "outputs": [],
   "source": []
  },
  {
   "cell_type": "code",
   "execution_count": 626,
   "id": "multiple-feelings",
   "metadata": {},
   "outputs": [],
   "source": [
    "\n",
    "from graphviz import Digraph\n",
    "\n",
    "def plot(genotype, file_path, caption=None):\n",
    "    \"\"\" make DAG plot and save to file_path as .png \"\"\"\n",
    "    edge_attr = {\"fontsize\": \"20\", \"fontname\": \"times\"}\n",
    "    node_attr = {\n",
    "        \"style\": \"filled\",\n",
    "        \"shape\": \"rect\",\n",
    "        \"align\": \"center\",\n",
    "        \"fontsize\": \"20\",\n",
    "        \"height\": \"0.5\",\n",
    "        \"width\": \"0.5\",\n",
    "        \"penwidth\": \"2\",\n",
    "        \"fontname\": \"times\",\n",
    "    }\n",
    "    g = Digraph(format=\"png\", edge_attr=edge_attr, node_attr=node_attr, engine=\"dot\")\n",
    "    g.body.extend([\"rankdir=LR\"])\n",
    "\n",
    "    # input nodes\n",
    "    g.node(\"c_{k-2}\", fillcolor=\"darkseagreen2\")\n",
    "    g.node(\"c_{k-1}\", fillcolor=\"darkseagreen2\")\n",
    "\n",
    "    # intermediate nodes\n",
    "    n_nodes = len(genotype)\n",
    "    for i in range(n_nodes):\n",
    "        g.node(str(i), fillcolor=\"lightblue\")\n",
    "\n",
    "    for i, edges in enumerate(genotype):\n",
    "        for op, j in edges:\n",
    "            if j == 0:\n",
    "                u = \"c_{k-2}\"\n",
    "            elif j == 1:\n",
    "                u = \"c_{k-1}\"\n",
    "            else:\n",
    "                u = str(j - 2)\n",
    "\n",
    "            v = str(i)\n",
    "            g.edge(u, v, label=op, fillcolor=\"gray\")\n",
    "\n",
    "    # output node\n",
    "    g.node(\"c_{k}\", fillcolor=\"palegoldenrod\")\n",
    "    for i in range(n_nodes):\n",
    "        g.edge(str(i), \"c_{k}\", fillcolor=\"gray\")\n",
    "\n",
    "    # add image caption\n",
    "    if caption:\n",
    "        g.attr(label=caption, overlap=\"false\", fontsize=\"20\", fontname=\"times\")\n",
    "\n",
    "    g.render(file_path, view=False)\n",
    "    \n",
    "plot(geno, \"/home/rob/Git/meta-fsl-nas/notebooks/normal.png\")"
   ]
  },
  {
   "cell_type": "code",
   "execution_count": null,
   "id": "bored-cowboy",
   "metadata": {},
   "outputs": [],
   "source": []
  }
 ],
 "metadata": {
  "kernelspec": {
   "display_name": "Python 3.7.10 64-bit ('meta': conda)",
   "language": "python",
   "name": "python3710jvsc74a57bd0b1d57bbef129b95556cf4acac245eaf539d69532a51fcbf5e76efb5e83c89ceb"
  },
  "language_info": {
   "codemirror_mode": {
    "name": "ipython",
    "version": 3
   },
   "file_extension": ".py",
   "mimetype": "text/x-python",
   "name": "python",
   "nbconvert_exporter": "python",
   "pygments_lexer": "ipython3",
   "version": "3.7.10"
  }
 },
 "nbformat": 4,
 "nbformat_minor": 5
}
