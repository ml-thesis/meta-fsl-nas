{
 "cells": [
  {
   "cell_type": "code",
   "execution_count": null,
   "id": "victorian-penalty",
   "metadata": {},
   "outputs": [],
   "source": [
    "import os\n",
    "import sys\n",
    "import pickle\n",
    "sys.path.append('../metanas')\n",
    "\n",
    "import numpy as np\n",
    "import pandas as pd\n",
    "import matplotlib.pyplot as plt\n",
    "plt.style.use('ggplot')\n",
    "\n",
    "from metanas.utils.visualize import plot\n",
    "from IPython.display import Image, display, Markdown"
   ]
  },
  {
   "cell_type": "code",
   "execution_count": null,
   "id": "completed-canal",
   "metadata": {},
   "outputs": [],
   "source": [
    "def plot_loss_accuracy(path, eval_every=5):\n",
    "    with (open(path, 'rb')) as f:\n",
    "        res = pickle.load(f)\n",
    "    \n",
    "    _, axes = plt.subplots(1, 2, figsize=(20, 5))\n",
    "    test_spacing = np.linspace(0, len(res['train_test_loss']), # Length like train loss\n",
    "                               num=len(res['test_test_loss']), \n",
    "                               retstep=eval_every, dtype=np.int32)[0]\n",
    "\n",
    "    axes[0].plot(res['train_test_loss'], 'o-', color=\"r\",label=\"Training test loss\")\n",
    "    axes[0].plot(test_spacing, res['test_test_loss'],  'o-', color=\"g\",\n",
    "                 label=\"Test test loss\")\n",
    "    axes[0].set_ylabel(\"Loss\")\n",
    "    axes[0].set_xlabel(\"Epochs\")\n",
    "    axes[0].legend(loc=\"best\")\n",
    "\n",
    "    axes[1].plot(res['train_test_accu'], 'o-', color=\"r\", label=\"Training test accuracy\")\n",
    "    axes[1].plot(test_spacing, res['test_test_accu'], 'o-', color=\"g\", label=\"Test test accuracy\")\n",
    "    axes[1].set_ylabel(\"Accuracy\")\n",
    "    axes[1].set_xlabel(\"Epochs\")\n",
    "    axes[1].legend(loc=\"best\")\n",
    "    \n",
    "    # Returns the final sparse parameters, accuracy and loss\n",
    "    return (res['sparse_params_logger'][-1], res['train_test_loss'][-1],\n",
    "            res['test_test_loss'][-1], res['train_test_accu'][-1], \n",
    "            res['test_test_accu'][-1])\n",
    "\n",
    "def plot_genotype(path, eval_every):\n",
    "    with (open(path, 'rb')) as f:\n",
    "        res = pickle.load(f)\n",
    "        \n",
    "    cwd = os.getcwd()\n",
    "    print(res['genotype'])\n",
    "    for i in range(len(res['genotype'])):\n",
    "        if i % eval_every == 0:\n",
    "            \n",
    "            display(Markdown(f'# Iteration: {i}'))\n",
    "            plot(res['genotype'][i].normal, 'normal', 'normal cell')\n",
    "            plot(res['genotype'][i].reduce, 'reduce', 'reduce cell')\n",
    "\n",
    "            display(Image('normal.png'))\n",
    "            display(Image('reduce.png'))\n",
    "            \n",
    "            # Clean repository\n",
    "            os.remove(os.path.join(cwd, \"normal\"))\n",
    "            os.remove(os.path.join(cwd, \"reduce\"))\n",
    "            os.remove(os.path.join(cwd, \"normal.png\"))\n",
    "            os.remove(os.path.join(cwd, \"reduce.png\"))"
   ]
  },
  {
   "cell_type": "code",
   "execution_count": null,
   "id": "overall-sheffield",
   "metadata": {},
   "outputs": [],
   "source": [
    "# path to experiment pickle\n",
    "eval_every_n = 5\n",
    "path_exp = '/home/rob/Git/meta-fsl-nas/metanas/results/og_train/experiment.pickle'\n",
    "\n",
    "plot_loss_accuracy(path_exp)\n",
    "plot_genotype(path_exp, eval_every_n)"
   ]
  },
  {
   "cell_type": "code",
   "execution_count": null,
   "id": "convertible-senior",
   "metadata": {},
   "outputs": [],
   "source": []
  },
  {
   "cell_type": "code",
   "execution_count": null,
   "id": "constitutional-cartoon",
   "metadata": {},
   "outputs": [],
   "source": []
  }
 ],
 "metadata": {
  "kernelspec": {
   "display_name": "Python 3.7.10 64-bit ('meta': conda)",
   "language": "python",
   "name": "python3710jvsc74a57bd0b1d57bbef129b95556cf4acac245eaf539d69532a51fcbf5e76efb5e83c89ceb"
  },
  "language_info": {
   "codemirror_mode": {
    "name": "ipython",
    "version": 3
   },
   "file_extension": ".py",
   "mimetype": "text/x-python",
   "name": "python",
   "nbconvert_exporter": "python",
   "pygments_lexer": "ipython3",
   "version": "3.7.10"
  }
 },
 "nbformat": 4,
 "nbformat_minor": 5
}
